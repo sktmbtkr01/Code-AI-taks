{
 "cells": [
  {
   "cell_type": "code",
   "execution_count": 1,
   "id": "35f52743-8b6b-45fc-ac1a-acc38dd4b80d",
   "metadata": {},
   "outputs": [],
   "source": [
    "import pandas as pd\n",
    "import numpy as np\n",
    "import matplotlib.pyplot as plt\n",
    "%matplotlib inline"
   ]
  },
  {
   "cell_type": "markdown",
   "id": "582210d4-13c2-4651-ba5e-3cf337543fde",
   "metadata": {},
   "source": [
    "## Exploring data"
   ]
  },
  {
   "cell_type": "code",
   "execution_count": 2,
   "id": "6233c6be-85db-4344-b982-f3c1520fd4e4",
   "metadata": {},
   "outputs": [
    {
     "data": {
      "text/html": [
       "<div>\n",
       "<style scoped>\n",
       "    .dataframe tbody tr th:only-of-type {\n",
       "        vertical-align: middle;\n",
       "    }\n",
       "\n",
       "    .dataframe tbody tr th {\n",
       "        vertical-align: top;\n",
       "    }\n",
       "\n",
       "    .dataframe thead th {\n",
       "        text-align: right;\n",
       "    }\n",
       "</style>\n",
       "<table border=\"1\" class=\"dataframe\">\n",
       "  <thead>\n",
       "    <tr style=\"text-align: right;\">\n",
       "      <th></th>\n",
       "      <th>matchId</th>\n",
       "      <th>inning</th>\n",
       "      <th>over_ball</th>\n",
       "      <th>over</th>\n",
       "      <th>ball</th>\n",
       "      <th>batting_team</th>\n",
       "      <th>bowling_team</th>\n",
       "      <th>batsman</th>\n",
       "      <th>non_striker</th>\n",
       "      <th>bowler</th>\n",
       "      <th>batsman_runs</th>\n",
       "      <th>extras</th>\n",
       "      <th>isWide</th>\n",
       "      <th>isNoBall</th>\n",
       "      <th>Byes</th>\n",
       "      <th>LegByes</th>\n",
       "      <th>Penalty</th>\n",
       "      <th>dismissal_kind</th>\n",
       "      <th>player_dismissed</th>\n",
       "      <th>date</th>\n",
       "    </tr>\n",
       "  </thead>\n",
       "  <tbody>\n",
       "    <tr>\n",
       "      <th>0</th>\n",
       "      <td>335982</td>\n",
       "      <td>1</td>\n",
       "      <td>0.1</td>\n",
       "      <td>0</td>\n",
       "      <td>1</td>\n",
       "      <td>Kolkata Knight Riders</td>\n",
       "      <td>Royal Challengers Bangalore</td>\n",
       "      <td>SC Ganguly</td>\n",
       "      <td>BB McCullum</td>\n",
       "      <td>P Kumar</td>\n",
       "      <td>0</td>\n",
       "      <td>1</td>\n",
       "      <td>NaN</td>\n",
       "      <td>NaN</td>\n",
       "      <td>NaN</td>\n",
       "      <td>1.0</td>\n",
       "      <td>NaN</td>\n",
       "      <td>NaN</td>\n",
       "      <td>NaN</td>\n",
       "      <td>2008-04-18</td>\n",
       "    </tr>\n",
       "    <tr>\n",
       "      <th>1</th>\n",
       "      <td>335982</td>\n",
       "      <td>1</td>\n",
       "      <td>0.2</td>\n",
       "      <td>0</td>\n",
       "      <td>2</td>\n",
       "      <td>Kolkata Knight Riders</td>\n",
       "      <td>Royal Challengers Bangalore</td>\n",
       "      <td>BB McCullum</td>\n",
       "      <td>SC Ganguly</td>\n",
       "      <td>P Kumar</td>\n",
       "      <td>0</td>\n",
       "      <td>0</td>\n",
       "      <td>NaN</td>\n",
       "      <td>NaN</td>\n",
       "      <td>NaN</td>\n",
       "      <td>NaN</td>\n",
       "      <td>NaN</td>\n",
       "      <td>NaN</td>\n",
       "      <td>NaN</td>\n",
       "      <td>2008-04-18</td>\n",
       "    </tr>\n",
       "    <tr>\n",
       "      <th>2</th>\n",
       "      <td>335982</td>\n",
       "      <td>1</td>\n",
       "      <td>0.3</td>\n",
       "      <td>0</td>\n",
       "      <td>3</td>\n",
       "      <td>Kolkata Knight Riders</td>\n",
       "      <td>Royal Challengers Bangalore</td>\n",
       "      <td>BB McCullum</td>\n",
       "      <td>SC Ganguly</td>\n",
       "      <td>P Kumar</td>\n",
       "      <td>0</td>\n",
       "      <td>1</td>\n",
       "      <td>1.0</td>\n",
       "      <td>NaN</td>\n",
       "      <td>NaN</td>\n",
       "      <td>NaN</td>\n",
       "      <td>NaN</td>\n",
       "      <td>NaN</td>\n",
       "      <td>NaN</td>\n",
       "      <td>2008-04-18</td>\n",
       "    </tr>\n",
       "    <tr>\n",
       "      <th>3</th>\n",
       "      <td>335982</td>\n",
       "      <td>1</td>\n",
       "      <td>0.4</td>\n",
       "      <td>0</td>\n",
       "      <td>4</td>\n",
       "      <td>Kolkata Knight Riders</td>\n",
       "      <td>Royal Challengers Bangalore</td>\n",
       "      <td>BB McCullum</td>\n",
       "      <td>SC Ganguly</td>\n",
       "      <td>P Kumar</td>\n",
       "      <td>0</td>\n",
       "      <td>0</td>\n",
       "      <td>NaN</td>\n",
       "      <td>NaN</td>\n",
       "      <td>NaN</td>\n",
       "      <td>NaN</td>\n",
       "      <td>NaN</td>\n",
       "      <td>NaN</td>\n",
       "      <td>NaN</td>\n",
       "      <td>2008-04-18</td>\n",
       "    </tr>\n",
       "    <tr>\n",
       "      <th>4</th>\n",
       "      <td>335982</td>\n",
       "      <td>1</td>\n",
       "      <td>0.5</td>\n",
       "      <td>0</td>\n",
       "      <td>5</td>\n",
       "      <td>Kolkata Knight Riders</td>\n",
       "      <td>Royal Challengers Bangalore</td>\n",
       "      <td>BB McCullum</td>\n",
       "      <td>SC Ganguly</td>\n",
       "      <td>P Kumar</td>\n",
       "      <td>0</td>\n",
       "      <td>0</td>\n",
       "      <td>NaN</td>\n",
       "      <td>NaN</td>\n",
       "      <td>NaN</td>\n",
       "      <td>NaN</td>\n",
       "      <td>NaN</td>\n",
       "      <td>NaN</td>\n",
       "      <td>NaN</td>\n",
       "      <td>2008-04-18</td>\n",
       "    </tr>\n",
       "  </tbody>\n",
       "</table>\n",
       "</div>"
      ],
      "text/plain": [
       "   matchId  inning  over_ball  over  ball           batting_team  \\\n",
       "0   335982       1        0.1     0     1  Kolkata Knight Riders   \n",
       "1   335982       1        0.2     0     2  Kolkata Knight Riders   \n",
       "2   335982       1        0.3     0     3  Kolkata Knight Riders   \n",
       "3   335982       1        0.4     0     4  Kolkata Knight Riders   \n",
       "4   335982       1        0.5     0     5  Kolkata Knight Riders   \n",
       "\n",
       "                  bowling_team      batsman  non_striker   bowler  \\\n",
       "0  Royal Challengers Bangalore   SC Ganguly  BB McCullum  P Kumar   \n",
       "1  Royal Challengers Bangalore  BB McCullum   SC Ganguly  P Kumar   \n",
       "2  Royal Challengers Bangalore  BB McCullum   SC Ganguly  P Kumar   \n",
       "3  Royal Challengers Bangalore  BB McCullum   SC Ganguly  P Kumar   \n",
       "4  Royal Challengers Bangalore  BB McCullum   SC Ganguly  P Kumar   \n",
       "\n",
       "   batsman_runs  extras  isWide  isNoBall  Byes  LegByes  Penalty  \\\n",
       "0             0       1     NaN       NaN   NaN      1.0      NaN   \n",
       "1             0       0     NaN       NaN   NaN      NaN      NaN   \n",
       "2             0       1     1.0       NaN   NaN      NaN      NaN   \n",
       "3             0       0     NaN       NaN   NaN      NaN      NaN   \n",
       "4             0       0     NaN       NaN   NaN      NaN      NaN   \n",
       "\n",
       "  dismissal_kind player_dismissed        date  \n",
       "0            NaN              NaN  2008-04-18  \n",
       "1            NaN              NaN  2008-04-18  \n",
       "2            NaN              NaN  2008-04-18  \n",
       "3            NaN              NaN  2008-04-18  \n",
       "4            NaN              NaN  2008-04-18  "
      ]
     },
     "execution_count": 2,
     "metadata": {},
     "output_type": "execute_result"
    }
   ],
   "source": [
    "df = pd.read_csv(\"deliveries_updated_mens_ipl_upto_2024 - deliveries_updated_mens_ipl_upto_2024 (1).csv\")\n",
    "df.head()"
   ]
  },
  {
   "cell_type": "code",
   "execution_count": 3,
   "id": "33091c07-305c-4928-960f-047b7d9f34ae",
   "metadata": {},
   "outputs": [
    {
     "data": {
      "text/plain": [
       "Index(['matchId', 'inning', 'over_ball', 'over', 'ball', 'batting_team',\n",
       "       'bowling_team', 'batsman', 'non_striker', 'bowler', 'batsman_runs',\n",
       "       'extras', 'isWide', 'isNoBall', 'Byes', 'LegByes', 'Penalty',\n",
       "       'dismissal_kind', 'player_dismissed', 'date'],\n",
       "      dtype='object')"
      ]
     },
     "execution_count": 3,
     "metadata": {},
     "output_type": "execute_result"
    }
   ],
   "source": [
    "df.columns"
   ]
  },
  {
   "cell_type": "code",
   "execution_count": 4,
   "id": "88d486ad-5437-4594-94cc-7e082821c146",
   "metadata": {
    "scrolled": true
   },
   "outputs": [
    {
     "data": {
      "text/plain": [
       "matchId               int64\n",
       "inning                int64\n",
       "over_ball           float64\n",
       "over                  int64\n",
       "ball                  int64\n",
       "batting_team         object\n",
       "bowling_team         object\n",
       "batsman              object\n",
       "non_striker          object\n",
       "bowler               object\n",
       "batsman_runs          int64\n",
       "extras                int64\n",
       "isWide              float64\n",
       "isNoBall            float64\n",
       "Byes                float64\n",
       "LegByes             float64\n",
       "Penalty             float64\n",
       "dismissal_kind       object\n",
       "player_dismissed     object\n",
       "date                 object\n",
       "dtype: object"
      ]
     },
     "execution_count": 4,
     "metadata": {},
     "output_type": "execute_result"
    }
   ],
   "source": [
    "df.dtypes\n"
   ]
  },
  {
   "cell_type": "code",
   "execution_count": 5,
   "id": "01b8f205-ccce-424a-a464-d200a80ea9b1",
   "metadata": {},
   "outputs": [
    {
     "data": {
      "text/plain": [
       "matchId                                  335982\n",
       "inning                                        1\n",
       "over_ball                                   0.4\n",
       "over                                          0\n",
       "ball                                          4\n",
       "batting_team              Kolkata Knight Riders\n",
       "bowling_team        Royal Challengers Bangalore\n",
       "batsman                             BB McCullum\n",
       "non_striker                          SC Ganguly\n",
       "bowler                                  P Kumar\n",
       "batsman_runs                                  0\n",
       "extras                                        0\n",
       "isWide                                      NaN\n",
       "isNoBall                                    NaN\n",
       "Byes                                        NaN\n",
       "LegByes                                     NaN\n",
       "Penalty                                     NaN\n",
       "dismissal_kind                              NaN\n",
       "player_dismissed                            NaN\n",
       "date                                 2008-04-18\n",
       "Name: 3, dtype: object"
      ]
     },
     "execution_count": 5,
     "metadata": {},
     "output_type": "execute_result"
    }
   ],
   "source": [
    "df.loc[3]"
   ]
  },
  {
   "cell_type": "code",
   "execution_count": 6,
   "id": "c2b7852e-9c32-4012-9f9b-90b1a1e61022",
   "metadata": {},
   "outputs": [
    {
     "name": "stdout",
     "output_type": "stream",
     "text": [
      "<class 'pandas.core.frame.DataFrame'>\n",
      "RangeIndex: 260920 entries, 0 to 260919\n",
      "Data columns (total 20 columns):\n",
      " #   Column            Non-Null Count   Dtype  \n",
      "---  ------            --------------   -----  \n",
      " 0   matchId           260920 non-null  int64  \n",
      " 1   inning            260920 non-null  int64  \n",
      " 2   over_ball         260920 non-null  float64\n",
      " 3   over              260920 non-null  int64  \n",
      " 4   ball              260920 non-null  int64  \n",
      " 5   batting_team      260920 non-null  object \n",
      " 6   bowling_team      260920 non-null  object \n",
      " 7   batsman           260920 non-null  object \n",
      " 8   non_striker       260920 non-null  object \n",
      " 9   bowler            260920 non-null  object \n",
      " 10  batsman_runs      260920 non-null  int64  \n",
      " 11  extras            260920 non-null  int64  \n",
      " 12  isWide            8381 non-null    float64\n",
      " 13  isNoBall          1093 non-null    float64\n",
      " 14  Byes              673 non-null     float64\n",
      " 15  LegByes           4001 non-null    float64\n",
      " 16  Penalty           2 non-null       float64\n",
      " 17  dismissal_kind    12950 non-null   object \n",
      " 18  player_dismissed  12950 non-null   object \n",
      " 19  date              260920 non-null  object \n",
      "dtypes: float64(6), int64(6), object(8)\n",
      "memory usage: 39.8+ MB\n"
     ]
    }
   ],
   "source": [
    "df.info()"
   ]
  },
  {
   "cell_type": "code",
   "execution_count": 7,
   "id": "28298ead-52ff-41a3-9561-512cd9c4fa6c",
   "metadata": {},
   "outputs": [
    {
     "data": {
      "text/html": [
       "<div>\n",
       "<style scoped>\n",
       "    .dataframe tbody tr th:only-of-type {\n",
       "        vertical-align: middle;\n",
       "    }\n",
       "\n",
       "    .dataframe tbody tr th {\n",
       "        vertical-align: top;\n",
       "    }\n",
       "\n",
       "    .dataframe thead th {\n",
       "        text-align: right;\n",
       "    }\n",
       "</style>\n",
       "<table border=\"1\" class=\"dataframe\">\n",
       "  <thead>\n",
       "    <tr style=\"text-align: right;\">\n",
       "      <th></th>\n",
       "      <th>matchId</th>\n",
       "      <th>inning</th>\n",
       "      <th>over_ball</th>\n",
       "      <th>over</th>\n",
       "      <th>ball</th>\n",
       "      <th>batsman_runs</th>\n",
       "      <th>extras</th>\n",
       "      <th>isWide</th>\n",
       "      <th>isNoBall</th>\n",
       "      <th>Byes</th>\n",
       "      <th>LegByes</th>\n",
       "      <th>Penalty</th>\n",
       "    </tr>\n",
       "  </thead>\n",
       "  <tbody>\n",
       "    <tr>\n",
       "      <th>count</th>\n",
       "      <td>2.609200e+05</td>\n",
       "      <td>260920.000000</td>\n",
       "      <td>260920.000000</td>\n",
       "      <td>260920.000000</td>\n",
       "      <td>260920.000000</td>\n",
       "      <td>260920.000000</td>\n",
       "      <td>260920.000000</td>\n",
       "      <td>8381.000000</td>\n",
       "      <td>1093.000000</td>\n",
       "      <td>673.000000</td>\n",
       "      <td>4001.000000</td>\n",
       "      <td>2.0</td>\n",
       "    </tr>\n",
       "    <tr>\n",
       "      <th>mean</th>\n",
       "      <td>9.070665e+05</td>\n",
       "      <td>1.483531</td>\n",
       "      <td>9.560015</td>\n",
       "      <td>9.197677</td>\n",
       "      <td>3.623452</td>\n",
       "      <td>1.265001</td>\n",
       "      <td>0.067806</td>\n",
       "      <td>1.201050</td>\n",
       "      <td>1.032022</td>\n",
       "      <td>1.866270</td>\n",
       "      <td>1.307673</td>\n",
       "      <td>5.0</td>\n",
       "    </tr>\n",
       "    <tr>\n",
       "      <th>std</th>\n",
       "      <td>3.679913e+05</td>\n",
       "      <td>0.502643</td>\n",
       "      <td>5.686116</td>\n",
       "      <td>5.683484</td>\n",
       "      <td>1.813850</td>\n",
       "      <td>1.639298</td>\n",
       "      <td>0.343265</td>\n",
       "      <td>0.783803</td>\n",
       "      <td>0.314310</td>\n",
       "      <td>1.312692</td>\n",
       "      <td>0.852387</td>\n",
       "      <td>0.0</td>\n",
       "    </tr>\n",
       "    <tr>\n",
       "      <th>min</th>\n",
       "      <td>3.359820e+05</td>\n",
       "      <td>1.000000</td>\n",
       "      <td>0.100000</td>\n",
       "      <td>0.000000</td>\n",
       "      <td>1.000000</td>\n",
       "      <td>0.000000</td>\n",
       "      <td>0.000000</td>\n",
       "      <td>1.000000</td>\n",
       "      <td>1.000000</td>\n",
       "      <td>1.000000</td>\n",
       "      <td>1.000000</td>\n",
       "      <td>5.0</td>\n",
       "    </tr>\n",
       "    <tr>\n",
       "      <th>25%</th>\n",
       "      <td>5.483340e+05</td>\n",
       "      <td>1.000000</td>\n",
       "      <td>4.500000</td>\n",
       "      <td>4.000000</td>\n",
       "      <td>2.000000</td>\n",
       "      <td>0.000000</td>\n",
       "      <td>0.000000</td>\n",
       "      <td>1.000000</td>\n",
       "      <td>1.000000</td>\n",
       "      <td>1.000000</td>\n",
       "      <td>1.000000</td>\n",
       "      <td>5.0</td>\n",
       "    </tr>\n",
       "    <tr>\n",
       "      <th>50%</th>\n",
       "      <td>9.809670e+05</td>\n",
       "      <td>1.000000</td>\n",
       "      <td>9.400000</td>\n",
       "      <td>9.000000</td>\n",
       "      <td>4.000000</td>\n",
       "      <td>1.000000</td>\n",
       "      <td>0.000000</td>\n",
       "      <td>1.000000</td>\n",
       "      <td>1.000000</td>\n",
       "      <td>1.000000</td>\n",
       "      <td>1.000000</td>\n",
       "      <td>5.0</td>\n",
       "    </tr>\n",
       "    <tr>\n",
       "      <th>75%</th>\n",
       "      <td>1.254066e+06</td>\n",
       "      <td>2.000000</td>\n",
       "      <td>14.400000</td>\n",
       "      <td>14.000000</td>\n",
       "      <td>5.000000</td>\n",
       "      <td>1.000000</td>\n",
       "      <td>0.000000</td>\n",
       "      <td>1.000000</td>\n",
       "      <td>1.000000</td>\n",
       "      <td>4.000000</td>\n",
       "      <td>1.000000</td>\n",
       "      <td>5.0</td>\n",
       "    </tr>\n",
       "    <tr>\n",
       "      <th>max</th>\n",
       "      <td>1.426312e+06</td>\n",
       "      <td>6.000000</td>\n",
       "      <td>19.900000</td>\n",
       "      <td>19.000000</td>\n",
       "      <td>11.000000</td>\n",
       "      <td>6.000000</td>\n",
       "      <td>7.000000</td>\n",
       "      <td>5.000000</td>\n",
       "      <td>5.000000</td>\n",
       "      <td>4.000000</td>\n",
       "      <td>5.000000</td>\n",
       "      <td>5.0</td>\n",
       "    </tr>\n",
       "  </tbody>\n",
       "</table>\n",
       "</div>"
      ],
      "text/plain": [
       "            matchId         inning      over_ball           over  \\\n",
       "count  2.609200e+05  260920.000000  260920.000000  260920.000000   \n",
       "mean   9.070665e+05       1.483531       9.560015       9.197677   \n",
       "std    3.679913e+05       0.502643       5.686116       5.683484   \n",
       "min    3.359820e+05       1.000000       0.100000       0.000000   \n",
       "25%    5.483340e+05       1.000000       4.500000       4.000000   \n",
       "50%    9.809670e+05       1.000000       9.400000       9.000000   \n",
       "75%    1.254066e+06       2.000000      14.400000      14.000000   \n",
       "max    1.426312e+06       6.000000      19.900000      19.000000   \n",
       "\n",
       "                ball   batsman_runs         extras       isWide     isNoBall  \\\n",
       "count  260920.000000  260920.000000  260920.000000  8381.000000  1093.000000   \n",
       "mean        3.623452       1.265001       0.067806     1.201050     1.032022   \n",
       "std         1.813850       1.639298       0.343265     0.783803     0.314310   \n",
       "min         1.000000       0.000000       0.000000     1.000000     1.000000   \n",
       "25%         2.000000       0.000000       0.000000     1.000000     1.000000   \n",
       "50%         4.000000       1.000000       0.000000     1.000000     1.000000   \n",
       "75%         5.000000       1.000000       0.000000     1.000000     1.000000   \n",
       "max        11.000000       6.000000       7.000000     5.000000     5.000000   \n",
       "\n",
       "             Byes      LegByes  Penalty  \n",
       "count  673.000000  4001.000000      2.0  \n",
       "mean     1.866270     1.307673      5.0  \n",
       "std      1.312692     0.852387      0.0  \n",
       "min      1.000000     1.000000      5.0  \n",
       "25%      1.000000     1.000000      5.0  \n",
       "50%      1.000000     1.000000      5.0  \n",
       "75%      4.000000     1.000000      5.0  \n",
       "max      4.000000     5.000000      5.0  "
      ]
     },
     "execution_count": 7,
     "metadata": {},
     "output_type": "execute_result"
    }
   ],
   "source": [
    "df.describe()"
   ]
  },
  {
   "cell_type": "code",
   "execution_count": 8,
   "id": "9697a7fa-3133-477e-af63-1070d7f143cb",
   "metadata": {
    "scrolled": true
   },
   "outputs": [
    {
     "data": {
      "text/plain": [
       "matchId                  0\n",
       "inning                   0\n",
       "over_ball                0\n",
       "over                     0\n",
       "ball                     0\n",
       "batting_team             0\n",
       "bowling_team             0\n",
       "batsman                  0\n",
       "non_striker              0\n",
       "bowler                   0\n",
       "batsman_runs             0\n",
       "extras                   0\n",
       "isWide              252539\n",
       "isNoBall            259827\n",
       "Byes                260247\n",
       "LegByes             256919\n",
       "Penalty             260918\n",
       "dismissal_kind      247970\n",
       "player_dismissed    247970\n",
       "date                     0\n",
       "dtype: int64"
      ]
     },
     "execution_count": 8,
     "metadata": {},
     "output_type": "execute_result"
    }
   ],
   "source": [
    "df.isnull().sum()"
   ]
  },
  {
   "cell_type": "code",
   "execution_count": 9,
   "id": "c340bc1a-a8a9-44ef-9fd6-d7b7f4c0b02f",
   "metadata": {},
   "outputs": [
    {
     "data": {
      "text/plain": [
       "array(['Kolkata Knight Riders', 'Royal Challengers Bangalore',\n",
       "       'Chennai Super Kings', 'Kings XI Punjab', 'Rajasthan Royals',\n",
       "       'Delhi Daredevils', 'Mumbai Indians', 'Deccan Chargers',\n",
       "       'Kochi Tuskers Kerala', 'Pune Warriors', 'Sunrisers Hyderabad',\n",
       "       'Rising Pune Supergiants', 'Gujarat Lions',\n",
       "       'Rising Pune Supergiant', 'Delhi Capitals', 'Punjab Kings',\n",
       "       'Lucknow Super Giants', 'Gujarat Titans',\n",
       "       'Royal Challengers Bengaluru'], dtype=object)"
      ]
     },
     "execution_count": 9,
     "metadata": {},
     "output_type": "execute_result"
    }
   ],
   "source": [
    "df[\"batting_team\"].unique()"
   ]
  },
  {
   "cell_type": "code",
   "execution_count": 10,
   "id": "5f6b30de-171a-4793-bfa0-9a205c22f8bd",
   "metadata": {},
   "outputs": [],
   "source": [
    "df['date'] = pd.to_datetime(df['date'])"
   ]
  },
  {
   "cell_type": "code",
   "execution_count": 11,
   "id": "398eaca4-ef2b-4dcc-877b-0058f896ecb2",
   "metadata": {
    "scrolled": true
   },
   "outputs": [
    {
     "data": {
      "text/html": [
       "<div>\n",
       "<style scoped>\n",
       "    .dataframe tbody tr th:only-of-type {\n",
       "        vertical-align: middle;\n",
       "    }\n",
       "\n",
       "    .dataframe tbody tr th {\n",
       "        vertical-align: top;\n",
       "    }\n",
       "\n",
       "    .dataframe thead th {\n",
       "        text-align: right;\n",
       "    }\n",
       "</style>\n",
       "<table border=\"1\" class=\"dataframe\">\n",
       "  <thead>\n",
       "    <tr style=\"text-align: right;\">\n",
       "      <th></th>\n",
       "      <th>matchId</th>\n",
       "      <th>inning</th>\n",
       "      <th>over_ball</th>\n",
       "      <th>over</th>\n",
       "      <th>ball</th>\n",
       "      <th>batting_team</th>\n",
       "      <th>bowling_team</th>\n",
       "      <th>batsman</th>\n",
       "      <th>non_striker</th>\n",
       "      <th>bowler</th>\n",
       "      <th>batsman_runs</th>\n",
       "      <th>extras</th>\n",
       "      <th>isWide</th>\n",
       "      <th>isNoBall</th>\n",
       "      <th>Byes</th>\n",
       "      <th>LegByes</th>\n",
       "      <th>Penalty</th>\n",
       "      <th>dismissal_kind</th>\n",
       "      <th>player_dismissed</th>\n",
       "      <th>date</th>\n",
       "    </tr>\n",
       "  </thead>\n",
       "  <tbody>\n",
       "    <tr>\n",
       "      <th>0</th>\n",
       "      <td>335982</td>\n",
       "      <td>1</td>\n",
       "      <td>0.1</td>\n",
       "      <td>0</td>\n",
       "      <td>1</td>\n",
       "      <td>Kolkata Knight Riders</td>\n",
       "      <td>Royal Challengers Bangalore</td>\n",
       "      <td>SC Ganguly</td>\n",
       "      <td>BB McCullum</td>\n",
       "      <td>P Kumar</td>\n",
       "      <td>0</td>\n",
       "      <td>1</td>\n",
       "      <td>NaN</td>\n",
       "      <td>NaN</td>\n",
       "      <td>NaN</td>\n",
       "      <td>1.0</td>\n",
       "      <td>NaN</td>\n",
       "      <td>NaN</td>\n",
       "      <td>NaN</td>\n",
       "      <td>2008-04-18</td>\n",
       "    </tr>\n",
       "    <tr>\n",
       "      <th>1</th>\n",
       "      <td>335982</td>\n",
       "      <td>1</td>\n",
       "      <td>0.2</td>\n",
       "      <td>0</td>\n",
       "      <td>2</td>\n",
       "      <td>Kolkata Knight Riders</td>\n",
       "      <td>Royal Challengers Bangalore</td>\n",
       "      <td>BB McCullum</td>\n",
       "      <td>SC Ganguly</td>\n",
       "      <td>P Kumar</td>\n",
       "      <td>0</td>\n",
       "      <td>0</td>\n",
       "      <td>NaN</td>\n",
       "      <td>NaN</td>\n",
       "      <td>NaN</td>\n",
       "      <td>NaN</td>\n",
       "      <td>NaN</td>\n",
       "      <td>NaN</td>\n",
       "      <td>NaN</td>\n",
       "      <td>2008-04-18</td>\n",
       "    </tr>\n",
       "    <tr>\n",
       "      <th>2</th>\n",
       "      <td>335982</td>\n",
       "      <td>1</td>\n",
       "      <td>0.3</td>\n",
       "      <td>0</td>\n",
       "      <td>3</td>\n",
       "      <td>Kolkata Knight Riders</td>\n",
       "      <td>Royal Challengers Bangalore</td>\n",
       "      <td>BB McCullum</td>\n",
       "      <td>SC Ganguly</td>\n",
       "      <td>P Kumar</td>\n",
       "      <td>0</td>\n",
       "      <td>1</td>\n",
       "      <td>1.0</td>\n",
       "      <td>NaN</td>\n",
       "      <td>NaN</td>\n",
       "      <td>NaN</td>\n",
       "      <td>NaN</td>\n",
       "      <td>NaN</td>\n",
       "      <td>NaN</td>\n",
       "      <td>2008-04-18</td>\n",
       "    </tr>\n",
       "    <tr>\n",
       "      <th>3</th>\n",
       "      <td>335982</td>\n",
       "      <td>1</td>\n",
       "      <td>0.4</td>\n",
       "      <td>0</td>\n",
       "      <td>4</td>\n",
       "      <td>Kolkata Knight Riders</td>\n",
       "      <td>Royal Challengers Bangalore</td>\n",
       "      <td>BB McCullum</td>\n",
       "      <td>SC Ganguly</td>\n",
       "      <td>P Kumar</td>\n",
       "      <td>0</td>\n",
       "      <td>0</td>\n",
       "      <td>NaN</td>\n",
       "      <td>NaN</td>\n",
       "      <td>NaN</td>\n",
       "      <td>NaN</td>\n",
       "      <td>NaN</td>\n",
       "      <td>NaN</td>\n",
       "      <td>NaN</td>\n",
       "      <td>2008-04-18</td>\n",
       "    </tr>\n",
       "    <tr>\n",
       "      <th>4</th>\n",
       "      <td>335982</td>\n",
       "      <td>1</td>\n",
       "      <td>0.5</td>\n",
       "      <td>0</td>\n",
       "      <td>5</td>\n",
       "      <td>Kolkata Knight Riders</td>\n",
       "      <td>Royal Challengers Bangalore</td>\n",
       "      <td>BB McCullum</td>\n",
       "      <td>SC Ganguly</td>\n",
       "      <td>P Kumar</td>\n",
       "      <td>0</td>\n",
       "      <td>0</td>\n",
       "      <td>NaN</td>\n",
       "      <td>NaN</td>\n",
       "      <td>NaN</td>\n",
       "      <td>NaN</td>\n",
       "      <td>NaN</td>\n",
       "      <td>NaN</td>\n",
       "      <td>NaN</td>\n",
       "      <td>2008-04-18</td>\n",
       "    </tr>\n",
       "  </tbody>\n",
       "</table>\n",
       "</div>"
      ],
      "text/plain": [
       "   matchId  inning  over_ball  over  ball           batting_team  \\\n",
       "0   335982       1        0.1     0     1  Kolkata Knight Riders   \n",
       "1   335982       1        0.2     0     2  Kolkata Knight Riders   \n",
       "2   335982       1        0.3     0     3  Kolkata Knight Riders   \n",
       "3   335982       1        0.4     0     4  Kolkata Knight Riders   \n",
       "4   335982       1        0.5     0     5  Kolkata Knight Riders   \n",
       "\n",
       "                  bowling_team      batsman  non_striker   bowler  \\\n",
       "0  Royal Challengers Bangalore   SC Ganguly  BB McCullum  P Kumar   \n",
       "1  Royal Challengers Bangalore  BB McCullum   SC Ganguly  P Kumar   \n",
       "2  Royal Challengers Bangalore  BB McCullum   SC Ganguly  P Kumar   \n",
       "3  Royal Challengers Bangalore  BB McCullum   SC Ganguly  P Kumar   \n",
       "4  Royal Challengers Bangalore  BB McCullum   SC Ganguly  P Kumar   \n",
       "\n",
       "   batsman_runs  extras  isWide  isNoBall  Byes  LegByes  Penalty  \\\n",
       "0             0       1     NaN       NaN   NaN      1.0      NaN   \n",
       "1             0       0     NaN       NaN   NaN      NaN      NaN   \n",
       "2             0       1     1.0       NaN   NaN      NaN      NaN   \n",
       "3             0       0     NaN       NaN   NaN      NaN      NaN   \n",
       "4             0       0     NaN       NaN   NaN      NaN      NaN   \n",
       "\n",
       "  dismissal_kind player_dismissed       date  \n",
       "0            NaN              NaN 2008-04-18  \n",
       "1            NaN              NaN 2008-04-18  \n",
       "2            NaN              NaN 2008-04-18  \n",
       "3            NaN              NaN 2008-04-18  \n",
       "4            NaN              NaN 2008-04-18  "
      ]
     },
     "execution_count": 11,
     "metadata": {},
     "output_type": "execute_result"
    }
   ],
   "source": [
    "df.head()"
   ]
  },
  {
   "cell_type": "markdown",
   "id": "9da10f44-0daf-4673-b393-f1cb585afdf0",
   "metadata": {},
   "source": [
    "## Cleaning of Data"
   ]
  },
  {
   "cell_type": "code",
   "execution_count": 12,
   "id": "11833712-cc20-44b5-b8a9-488195785a5b",
   "metadata": {},
   "outputs": [],
   "source": [
    "df = df.drop(columns=['Penalty'])"
   ]
  },
  {
   "cell_type": "code",
   "execution_count": 13,
   "id": "15ba5d7a-b4a6-4a16-88fa-e16cebc219a8",
   "metadata": {},
   "outputs": [
    {
     "ename": "KeyError",
     "evalue": "'Penalty'",
     "output_type": "error",
     "traceback": [
      "\u001b[31m---------------------------------------------------------------------------\u001b[39m",
      "\u001b[31mKeyError\u001b[39m                                  Traceback (most recent call last)",
      "\u001b[36mFile \u001b[39m\u001b[32m~\\Desktop\\f1project\\env\\Lib\\site-packages\\pandas\\core\\indexes\\base.py:3812\u001b[39m, in \u001b[36mIndex.get_loc\u001b[39m\u001b[34m(self, key)\u001b[39m\n\u001b[32m   3811\u001b[39m \u001b[38;5;28;01mtry\u001b[39;00m:\n\u001b[32m-> \u001b[39m\u001b[32m3812\u001b[39m     \u001b[38;5;28;01mreturn\u001b[39;00m \u001b[38;5;28mself\u001b[39m._engine.get_loc(casted_key)\n\u001b[32m   3813\u001b[39m \u001b[38;5;28;01mexcept\u001b[39;00m \u001b[38;5;167;01mKeyError\u001b[39;00m \u001b[38;5;28;01mas\u001b[39;00m err:\n",
      "\u001b[36mFile \u001b[39m\u001b[32mindex.pyx:167\u001b[39m, in \u001b[36mpandas._libs.index.IndexEngine.get_loc\u001b[39m\u001b[34m()\u001b[39m\n",
      "\u001b[36mFile \u001b[39m\u001b[32mindex.pyx:196\u001b[39m, in \u001b[36mpandas._libs.index.IndexEngine.get_loc\u001b[39m\u001b[34m()\u001b[39m\n",
      "\u001b[36mFile \u001b[39m\u001b[32mpandas\\\\_libs\\\\hashtable_class_helper.pxi:7088\u001b[39m, in \u001b[36mpandas._libs.hashtable.PyObjectHashTable.get_item\u001b[39m\u001b[34m()\u001b[39m\n",
      "\u001b[36mFile \u001b[39m\u001b[32mpandas\\\\_libs\\\\hashtable_class_helper.pxi:7096\u001b[39m, in \u001b[36mpandas._libs.hashtable.PyObjectHashTable.get_item\u001b[39m\u001b[34m()\u001b[39m\n",
      "\u001b[31mKeyError\u001b[39m: 'Penalty'",
      "\nThe above exception was the direct cause of the following exception:\n",
      "\u001b[31mKeyError\u001b[39m                                  Traceback (most recent call last)",
      "\u001b[36mCell\u001b[39m\u001b[36m \u001b[39m\u001b[32mIn[13]\u001b[39m\u001b[32m, line 1\u001b[39m\n\u001b[32m----> \u001b[39m\u001b[32m1\u001b[39m df[\u001b[33m\"\u001b[39m\u001b[33mPenalty\u001b[39m\u001b[33m\"\u001b[39m].unique()\n",
      "\u001b[36mFile \u001b[39m\u001b[32m~\\Desktop\\f1project\\env\\Lib\\site-packages\\pandas\\core\\frame.py:4107\u001b[39m, in \u001b[36mDataFrame.__getitem__\u001b[39m\u001b[34m(self, key)\u001b[39m\n\u001b[32m   4105\u001b[39m \u001b[38;5;28;01mif\u001b[39;00m \u001b[38;5;28mself\u001b[39m.columns.nlevels > \u001b[32m1\u001b[39m:\n\u001b[32m   4106\u001b[39m     \u001b[38;5;28;01mreturn\u001b[39;00m \u001b[38;5;28mself\u001b[39m._getitem_multilevel(key)\n\u001b[32m-> \u001b[39m\u001b[32m4107\u001b[39m indexer = \u001b[38;5;28mself\u001b[39m.columns.get_loc(key)\n\u001b[32m   4108\u001b[39m \u001b[38;5;28;01mif\u001b[39;00m is_integer(indexer):\n\u001b[32m   4109\u001b[39m     indexer = [indexer]\n",
      "\u001b[36mFile \u001b[39m\u001b[32m~\\Desktop\\f1project\\env\\Lib\\site-packages\\pandas\\core\\indexes\\base.py:3819\u001b[39m, in \u001b[36mIndex.get_loc\u001b[39m\u001b[34m(self, key)\u001b[39m\n\u001b[32m   3814\u001b[39m     \u001b[38;5;28;01mif\u001b[39;00m \u001b[38;5;28misinstance\u001b[39m(casted_key, \u001b[38;5;28mslice\u001b[39m) \u001b[38;5;129;01mor\u001b[39;00m (\n\u001b[32m   3815\u001b[39m         \u001b[38;5;28misinstance\u001b[39m(casted_key, abc.Iterable)\n\u001b[32m   3816\u001b[39m         \u001b[38;5;129;01mand\u001b[39;00m \u001b[38;5;28many\u001b[39m(\u001b[38;5;28misinstance\u001b[39m(x, \u001b[38;5;28mslice\u001b[39m) \u001b[38;5;28;01mfor\u001b[39;00m x \u001b[38;5;129;01min\u001b[39;00m casted_key)\n\u001b[32m   3817\u001b[39m     ):\n\u001b[32m   3818\u001b[39m         \u001b[38;5;28;01mraise\u001b[39;00m InvalidIndexError(key)\n\u001b[32m-> \u001b[39m\u001b[32m3819\u001b[39m     \u001b[38;5;28;01mraise\u001b[39;00m \u001b[38;5;167;01mKeyError\u001b[39;00m(key) \u001b[38;5;28;01mfrom\u001b[39;00m\u001b[38;5;250m \u001b[39m\u001b[34;01merr\u001b[39;00m\n\u001b[32m   3820\u001b[39m \u001b[38;5;28;01mexcept\u001b[39;00m \u001b[38;5;167;01mTypeError\u001b[39;00m:\n\u001b[32m   3821\u001b[39m     \u001b[38;5;66;03m# If we have a listlike key, _check_indexing_error will raise\u001b[39;00m\n\u001b[32m   3822\u001b[39m     \u001b[38;5;66;03m#  InvalidIndexError. Otherwise we fall through and re-raise\u001b[39;00m\n\u001b[32m   3823\u001b[39m     \u001b[38;5;66;03m#  the TypeError.\u001b[39;00m\n\u001b[32m   3824\u001b[39m     \u001b[38;5;28mself\u001b[39m._check_indexing_error(key)\n",
      "\u001b[31mKeyError\u001b[39m: 'Penalty'"
     ]
    }
   ],
   "source": [
    "df[\"Penalty\"].unique()"
   ]
  },
  {
   "cell_type": "code",
   "execution_count": 14,
   "id": "2476cff5-2aa3-4291-9a30-14f60f8084f2",
   "metadata": {},
   "outputs": [
    {
     "data": {
      "text/html": [
       "<div>\n",
       "<style scoped>\n",
       "    .dataframe tbody tr th:only-of-type {\n",
       "        vertical-align: middle;\n",
       "    }\n",
       "\n",
       "    .dataframe tbody tr th {\n",
       "        vertical-align: top;\n",
       "    }\n",
       "\n",
       "    .dataframe thead th {\n",
       "        text-align: right;\n",
       "    }\n",
       "</style>\n",
       "<table border=\"1\" class=\"dataframe\">\n",
       "  <thead>\n",
       "    <tr style=\"text-align: right;\">\n",
       "      <th></th>\n",
       "      <th>matchId</th>\n",
       "      <th>inning</th>\n",
       "      <th>over_ball</th>\n",
       "      <th>over</th>\n",
       "      <th>ball</th>\n",
       "      <th>batting_team</th>\n",
       "      <th>bowling_team</th>\n",
       "      <th>batsman</th>\n",
       "      <th>non_striker</th>\n",
       "      <th>bowler</th>\n",
       "      <th>batsman_runs</th>\n",
       "      <th>extras</th>\n",
       "      <th>isWide</th>\n",
       "      <th>isNoBall</th>\n",
       "      <th>Byes</th>\n",
       "      <th>LegByes</th>\n",
       "      <th>dismissal_kind</th>\n",
       "      <th>player_dismissed</th>\n",
       "      <th>date</th>\n",
       "    </tr>\n",
       "  </thead>\n",
       "  <tbody>\n",
       "    <tr>\n",
       "      <th>0</th>\n",
       "      <td>335982</td>\n",
       "      <td>1</td>\n",
       "      <td>0.1</td>\n",
       "      <td>0</td>\n",
       "      <td>1</td>\n",
       "      <td>Kolkata Knight Riders</td>\n",
       "      <td>Royal Challengers Bangalore</td>\n",
       "      <td>SC Ganguly</td>\n",
       "      <td>BB McCullum</td>\n",
       "      <td>P Kumar</td>\n",
       "      <td>0</td>\n",
       "      <td>1</td>\n",
       "      <td>NaN</td>\n",
       "      <td>NaN</td>\n",
       "      <td>NaN</td>\n",
       "      <td>1.0</td>\n",
       "      <td>NaN</td>\n",
       "      <td>NaN</td>\n",
       "      <td>2008-04-18</td>\n",
       "    </tr>\n",
       "    <tr>\n",
       "      <th>1</th>\n",
       "      <td>335982</td>\n",
       "      <td>1</td>\n",
       "      <td>0.2</td>\n",
       "      <td>0</td>\n",
       "      <td>2</td>\n",
       "      <td>Kolkata Knight Riders</td>\n",
       "      <td>Royal Challengers Bangalore</td>\n",
       "      <td>BB McCullum</td>\n",
       "      <td>SC Ganguly</td>\n",
       "      <td>P Kumar</td>\n",
       "      <td>0</td>\n",
       "      <td>0</td>\n",
       "      <td>NaN</td>\n",
       "      <td>NaN</td>\n",
       "      <td>NaN</td>\n",
       "      <td>NaN</td>\n",
       "      <td>NaN</td>\n",
       "      <td>NaN</td>\n",
       "      <td>2008-04-18</td>\n",
       "    </tr>\n",
       "    <tr>\n",
       "      <th>2</th>\n",
       "      <td>335982</td>\n",
       "      <td>1</td>\n",
       "      <td>0.3</td>\n",
       "      <td>0</td>\n",
       "      <td>3</td>\n",
       "      <td>Kolkata Knight Riders</td>\n",
       "      <td>Royal Challengers Bangalore</td>\n",
       "      <td>BB McCullum</td>\n",
       "      <td>SC Ganguly</td>\n",
       "      <td>P Kumar</td>\n",
       "      <td>0</td>\n",
       "      <td>1</td>\n",
       "      <td>1.0</td>\n",
       "      <td>NaN</td>\n",
       "      <td>NaN</td>\n",
       "      <td>NaN</td>\n",
       "      <td>NaN</td>\n",
       "      <td>NaN</td>\n",
       "      <td>2008-04-18</td>\n",
       "    </tr>\n",
       "    <tr>\n",
       "      <th>3</th>\n",
       "      <td>335982</td>\n",
       "      <td>1</td>\n",
       "      <td>0.4</td>\n",
       "      <td>0</td>\n",
       "      <td>4</td>\n",
       "      <td>Kolkata Knight Riders</td>\n",
       "      <td>Royal Challengers Bangalore</td>\n",
       "      <td>BB McCullum</td>\n",
       "      <td>SC Ganguly</td>\n",
       "      <td>P Kumar</td>\n",
       "      <td>0</td>\n",
       "      <td>0</td>\n",
       "      <td>NaN</td>\n",
       "      <td>NaN</td>\n",
       "      <td>NaN</td>\n",
       "      <td>NaN</td>\n",
       "      <td>NaN</td>\n",
       "      <td>NaN</td>\n",
       "      <td>2008-04-18</td>\n",
       "    </tr>\n",
       "    <tr>\n",
       "      <th>4</th>\n",
       "      <td>335982</td>\n",
       "      <td>1</td>\n",
       "      <td>0.5</td>\n",
       "      <td>0</td>\n",
       "      <td>5</td>\n",
       "      <td>Kolkata Knight Riders</td>\n",
       "      <td>Royal Challengers Bangalore</td>\n",
       "      <td>BB McCullum</td>\n",
       "      <td>SC Ganguly</td>\n",
       "      <td>P Kumar</td>\n",
       "      <td>0</td>\n",
       "      <td>0</td>\n",
       "      <td>NaN</td>\n",
       "      <td>NaN</td>\n",
       "      <td>NaN</td>\n",
       "      <td>NaN</td>\n",
       "      <td>NaN</td>\n",
       "      <td>NaN</td>\n",
       "      <td>2008-04-18</td>\n",
       "    </tr>\n",
       "  </tbody>\n",
       "</table>\n",
       "</div>"
      ],
      "text/plain": [
       "   matchId  inning  over_ball  over  ball           batting_team  \\\n",
       "0   335982       1        0.1     0     1  Kolkata Knight Riders   \n",
       "1   335982       1        0.2     0     2  Kolkata Knight Riders   \n",
       "2   335982       1        0.3     0     3  Kolkata Knight Riders   \n",
       "3   335982       1        0.4     0     4  Kolkata Knight Riders   \n",
       "4   335982       1        0.5     0     5  Kolkata Knight Riders   \n",
       "\n",
       "                  bowling_team      batsman  non_striker   bowler  \\\n",
       "0  Royal Challengers Bangalore   SC Ganguly  BB McCullum  P Kumar   \n",
       "1  Royal Challengers Bangalore  BB McCullum   SC Ganguly  P Kumar   \n",
       "2  Royal Challengers Bangalore  BB McCullum   SC Ganguly  P Kumar   \n",
       "3  Royal Challengers Bangalore  BB McCullum   SC Ganguly  P Kumar   \n",
       "4  Royal Challengers Bangalore  BB McCullum   SC Ganguly  P Kumar   \n",
       "\n",
       "   batsman_runs  extras  isWide  isNoBall  Byes  LegByes dismissal_kind  \\\n",
       "0             0       1     NaN       NaN   NaN      1.0            NaN   \n",
       "1             0       0     NaN       NaN   NaN      NaN            NaN   \n",
       "2             0       1     1.0       NaN   NaN      NaN            NaN   \n",
       "3             0       0     NaN       NaN   NaN      NaN            NaN   \n",
       "4             0       0     NaN       NaN   NaN      NaN            NaN   \n",
       "\n",
       "  player_dismissed       date  \n",
       "0              NaN 2008-04-18  \n",
       "1              NaN 2008-04-18  \n",
       "2              NaN 2008-04-18  \n",
       "3              NaN 2008-04-18  \n",
       "4              NaN 2008-04-18  "
      ]
     },
     "execution_count": 14,
     "metadata": {},
     "output_type": "execute_result"
    }
   ],
   "source": [
    "df.head()"
   ]
  },
  {
   "cell_type": "code",
   "execution_count": 15,
   "id": "08e1b101-cf6f-4089-a783-4c426b39ea6d",
   "metadata": {},
   "outputs": [
    {
     "data": {
      "text/plain": [
       "array([nan, 'caught', 'bowled', 'run out', 'lbw', 'retired hurt',\n",
       "       'stumped', 'caught and bowled', 'hit wicket',\n",
       "       'obstructing the field', 'retired out'], dtype=object)"
      ]
     },
     "execution_count": 15,
     "metadata": {},
     "output_type": "execute_result"
    }
   ],
   "source": [
    "df[\"dismissal_kind\"].unique()"
   ]
  },
  {
   "cell_type": "code",
   "execution_count": 16,
   "id": "aa047d65-94cb-405c-b5fb-d48e98cfddbf",
   "metadata": {},
   "outputs": [
    {
     "data": {
      "text/html": [
       "<div>\n",
       "<style scoped>\n",
       "    .dataframe tbody tr th:only-of-type {\n",
       "        vertical-align: middle;\n",
       "    }\n",
       "\n",
       "    .dataframe tbody tr th {\n",
       "        vertical-align: top;\n",
       "    }\n",
       "\n",
       "    .dataframe thead th {\n",
       "        text-align: right;\n",
       "    }\n",
       "</style>\n",
       "<table border=\"1\" class=\"dataframe\">\n",
       "  <thead>\n",
       "    <tr style=\"text-align: right;\">\n",
       "      <th></th>\n",
       "      <th>matchId</th>\n",
       "      <th>inning</th>\n",
       "      <th>over_ball</th>\n",
       "      <th>over</th>\n",
       "      <th>ball</th>\n",
       "      <th>batting_team</th>\n",
       "      <th>bowling_team</th>\n",
       "      <th>batsman</th>\n",
       "      <th>non_striker</th>\n",
       "      <th>bowler</th>\n",
       "      <th>batsman_runs</th>\n",
       "      <th>extras</th>\n",
       "      <th>isWide</th>\n",
       "      <th>isNoBall</th>\n",
       "      <th>Byes</th>\n",
       "      <th>LegByes</th>\n",
       "      <th>dismissal_kind</th>\n",
       "      <th>player_dismissed</th>\n",
       "      <th>date</th>\n",
       "    </tr>\n",
       "  </thead>\n",
       "  <tbody>\n",
       "    <tr>\n",
       "      <th>0</th>\n",
       "      <td>335982</td>\n",
       "      <td>1</td>\n",
       "      <td>0.1</td>\n",
       "      <td>0</td>\n",
       "      <td>1</td>\n",
       "      <td>Kolkata Knight Riders</td>\n",
       "      <td>Royal Challengers Bangalore</td>\n",
       "      <td>SC Ganguly</td>\n",
       "      <td>BB McCullum</td>\n",
       "      <td>P Kumar</td>\n",
       "      <td>0</td>\n",
       "      <td>1</td>\n",
       "      <td>0</td>\n",
       "      <td>0</td>\n",
       "      <td>0</td>\n",
       "      <td>1</td>\n",
       "      <td>NaN</td>\n",
       "      <td>NaN</td>\n",
       "      <td>2008-04-18</td>\n",
       "    </tr>\n",
       "    <tr>\n",
       "      <th>1</th>\n",
       "      <td>335982</td>\n",
       "      <td>1</td>\n",
       "      <td>0.2</td>\n",
       "      <td>0</td>\n",
       "      <td>2</td>\n",
       "      <td>Kolkata Knight Riders</td>\n",
       "      <td>Royal Challengers Bangalore</td>\n",
       "      <td>BB McCullum</td>\n",
       "      <td>SC Ganguly</td>\n",
       "      <td>P Kumar</td>\n",
       "      <td>0</td>\n",
       "      <td>0</td>\n",
       "      <td>0</td>\n",
       "      <td>0</td>\n",
       "      <td>0</td>\n",
       "      <td>0</td>\n",
       "      <td>NaN</td>\n",
       "      <td>NaN</td>\n",
       "      <td>2008-04-18</td>\n",
       "    </tr>\n",
       "    <tr>\n",
       "      <th>2</th>\n",
       "      <td>335982</td>\n",
       "      <td>1</td>\n",
       "      <td>0.3</td>\n",
       "      <td>0</td>\n",
       "      <td>3</td>\n",
       "      <td>Kolkata Knight Riders</td>\n",
       "      <td>Royal Challengers Bangalore</td>\n",
       "      <td>BB McCullum</td>\n",
       "      <td>SC Ganguly</td>\n",
       "      <td>P Kumar</td>\n",
       "      <td>0</td>\n",
       "      <td>1</td>\n",
       "      <td>1</td>\n",
       "      <td>0</td>\n",
       "      <td>0</td>\n",
       "      <td>0</td>\n",
       "      <td>NaN</td>\n",
       "      <td>NaN</td>\n",
       "      <td>2008-04-18</td>\n",
       "    </tr>\n",
       "    <tr>\n",
       "      <th>3</th>\n",
       "      <td>335982</td>\n",
       "      <td>1</td>\n",
       "      <td>0.4</td>\n",
       "      <td>0</td>\n",
       "      <td>4</td>\n",
       "      <td>Kolkata Knight Riders</td>\n",
       "      <td>Royal Challengers Bangalore</td>\n",
       "      <td>BB McCullum</td>\n",
       "      <td>SC Ganguly</td>\n",
       "      <td>P Kumar</td>\n",
       "      <td>0</td>\n",
       "      <td>0</td>\n",
       "      <td>0</td>\n",
       "      <td>0</td>\n",
       "      <td>0</td>\n",
       "      <td>0</td>\n",
       "      <td>NaN</td>\n",
       "      <td>NaN</td>\n",
       "      <td>2008-04-18</td>\n",
       "    </tr>\n",
       "    <tr>\n",
       "      <th>4</th>\n",
       "      <td>335982</td>\n",
       "      <td>1</td>\n",
       "      <td>0.5</td>\n",
       "      <td>0</td>\n",
       "      <td>5</td>\n",
       "      <td>Kolkata Knight Riders</td>\n",
       "      <td>Royal Challengers Bangalore</td>\n",
       "      <td>BB McCullum</td>\n",
       "      <td>SC Ganguly</td>\n",
       "      <td>P Kumar</td>\n",
       "      <td>0</td>\n",
       "      <td>0</td>\n",
       "      <td>0</td>\n",
       "      <td>0</td>\n",
       "      <td>0</td>\n",
       "      <td>0</td>\n",
       "      <td>NaN</td>\n",
       "      <td>NaN</td>\n",
       "      <td>2008-04-18</td>\n",
       "    </tr>\n",
       "  </tbody>\n",
       "</table>\n",
       "</div>"
      ],
      "text/plain": [
       "   matchId  inning  over_ball  over  ball           batting_team  \\\n",
       "0   335982       1        0.1     0     1  Kolkata Knight Riders   \n",
       "1   335982       1        0.2     0     2  Kolkata Knight Riders   \n",
       "2   335982       1        0.3     0     3  Kolkata Knight Riders   \n",
       "3   335982       1        0.4     0     4  Kolkata Knight Riders   \n",
       "4   335982       1        0.5     0     5  Kolkata Knight Riders   \n",
       "\n",
       "                  bowling_team      batsman  non_striker   bowler  \\\n",
       "0  Royal Challengers Bangalore   SC Ganguly  BB McCullum  P Kumar   \n",
       "1  Royal Challengers Bangalore  BB McCullum   SC Ganguly  P Kumar   \n",
       "2  Royal Challengers Bangalore  BB McCullum   SC Ganguly  P Kumar   \n",
       "3  Royal Challengers Bangalore  BB McCullum   SC Ganguly  P Kumar   \n",
       "4  Royal Challengers Bangalore  BB McCullum   SC Ganguly  P Kumar   \n",
       "\n",
       "   batsman_runs  extras  isWide  isNoBall  Byes  LegByes dismissal_kind  \\\n",
       "0             0       1       0         0     0        1            NaN   \n",
       "1             0       0       0         0     0        0            NaN   \n",
       "2             0       1       1         0     0        0            NaN   \n",
       "3             0       0       0         0     0        0            NaN   \n",
       "4             0       0       0         0     0        0            NaN   \n",
       "\n",
       "  player_dismissed       date  \n",
       "0              NaN 2008-04-18  \n",
       "1              NaN 2008-04-18  \n",
       "2              NaN 2008-04-18  \n",
       "3              NaN 2008-04-18  \n",
       "4              NaN 2008-04-18  "
      ]
     },
     "execution_count": 16,
     "metadata": {},
     "output_type": "execute_result"
    }
   ],
   "source": [
    "df['isWide'] = df['isWide'].fillna(0).astype(int)\n",
    "df['Byes'] = df['Byes'].fillna(0).astype(int)\n",
    "df['isNoBall'] = df['isNoBall'].fillna(0).astype(int)\n",
    "df['LegByes'] = df['LegByes'].fillna(0).astype(int)\n",
    "df.head()"
   ]
  },
  {
   "cell_type": "code",
   "execution_count": 17,
   "id": "e6900999-7738-4022-b51c-71857fa7c392",
   "metadata": {},
   "outputs": [],
   "source": [
    "team_mapping = {\n",
    "    \"Delhi Daredevils\": \"Delhi Capitals\",   # replace old name with new\n",
    "    \"Kings XI Punjab\": \"Punjab Kings\",      # replace old name with new\n",
    "    \"Rising Pune Supergiants\": \"Rising Pune Supergiant\" ,\n",
    "    \"Royal Challengers Bangalore\":\"Royal Challengers Bengaluru\"# fix typo/inconsistency\n",
    "}\n",
    "df['batting_team'] = df['batting_team'].replace(team_mapping)\n",
    "df['bowling_team'] = df['bowling_team'].replace(team_mapping)"
   ]
  },
  {
   "cell_type": "code",
   "execution_count": 18,
   "id": "ff81fe1a-c87e-4f31-bea5-54fffb883f7f",
   "metadata": {},
   "outputs": [
    {
     "data": {
      "text/plain": [
       "array(['Kolkata Knight Riders', 'Royal Challengers Bengaluru',\n",
       "       'Chennai Super Kings', 'Punjab Kings', 'Rajasthan Royals',\n",
       "       'Delhi Capitals', 'Mumbai Indians', 'Deccan Chargers',\n",
       "       'Kochi Tuskers Kerala', 'Pune Warriors', 'Sunrisers Hyderabad',\n",
       "       'Rising Pune Supergiant', 'Gujarat Lions', 'Lucknow Super Giants',\n",
       "       'Gujarat Titans'], dtype=object)"
      ]
     },
     "execution_count": 18,
     "metadata": {},
     "output_type": "execute_result"
    }
   ],
   "source": [
    "df[\"batting_team\"].unique()"
   ]
  },
  {
   "cell_type": "code",
   "execution_count": 19,
   "id": "e8861fd2-f7f5-4ac3-bfa6-a9ba45c1fd66",
   "metadata": {},
   "outputs": [],
   "source": [
    "df['season'] = df['date'].dt.year"
   ]
  },
  {
   "cell_type": "code",
   "execution_count": 20,
   "id": "94d9ecbb-5fc9-468e-ad95-5e5d46616673",
   "metadata": {
    "scrolled": true
   },
   "outputs": [
    {
     "data": {
      "text/html": [
       "<div>\n",
       "<style scoped>\n",
       "    .dataframe tbody tr th:only-of-type {\n",
       "        vertical-align: middle;\n",
       "    }\n",
       "\n",
       "    .dataframe tbody tr th {\n",
       "        vertical-align: top;\n",
       "    }\n",
       "\n",
       "    .dataframe thead th {\n",
       "        text-align: right;\n",
       "    }\n",
       "</style>\n",
       "<table border=\"1\" class=\"dataframe\">\n",
       "  <thead>\n",
       "    <tr style=\"text-align: right;\">\n",
       "      <th></th>\n",
       "      <th>matchId</th>\n",
       "      <th>inning</th>\n",
       "      <th>over_ball</th>\n",
       "      <th>over</th>\n",
       "      <th>ball</th>\n",
       "      <th>batting_team</th>\n",
       "      <th>bowling_team</th>\n",
       "      <th>batsman</th>\n",
       "      <th>non_striker</th>\n",
       "      <th>bowler</th>\n",
       "      <th>batsman_runs</th>\n",
       "      <th>extras</th>\n",
       "      <th>isWide</th>\n",
       "      <th>isNoBall</th>\n",
       "      <th>Byes</th>\n",
       "      <th>LegByes</th>\n",
       "      <th>dismissal_kind</th>\n",
       "      <th>player_dismissed</th>\n",
       "      <th>date</th>\n",
       "      <th>season</th>\n",
       "    </tr>\n",
       "  </thead>\n",
       "  <tbody>\n",
       "    <tr>\n",
       "      <th>0</th>\n",
       "      <td>335982</td>\n",
       "      <td>1</td>\n",
       "      <td>0.1</td>\n",
       "      <td>0</td>\n",
       "      <td>1</td>\n",
       "      <td>Kolkata Knight Riders</td>\n",
       "      <td>Royal Challengers Bengaluru</td>\n",
       "      <td>SC Ganguly</td>\n",
       "      <td>BB McCullum</td>\n",
       "      <td>P Kumar</td>\n",
       "      <td>0</td>\n",
       "      <td>1</td>\n",
       "      <td>0</td>\n",
       "      <td>0</td>\n",
       "      <td>0</td>\n",
       "      <td>1</td>\n",
       "      <td>NaN</td>\n",
       "      <td>NaN</td>\n",
       "      <td>2008-04-18</td>\n",
       "      <td>2008</td>\n",
       "    </tr>\n",
       "    <tr>\n",
       "      <th>1</th>\n",
       "      <td>335982</td>\n",
       "      <td>1</td>\n",
       "      <td>0.2</td>\n",
       "      <td>0</td>\n",
       "      <td>2</td>\n",
       "      <td>Kolkata Knight Riders</td>\n",
       "      <td>Royal Challengers Bengaluru</td>\n",
       "      <td>BB McCullum</td>\n",
       "      <td>SC Ganguly</td>\n",
       "      <td>P Kumar</td>\n",
       "      <td>0</td>\n",
       "      <td>0</td>\n",
       "      <td>0</td>\n",
       "      <td>0</td>\n",
       "      <td>0</td>\n",
       "      <td>0</td>\n",
       "      <td>NaN</td>\n",
       "      <td>NaN</td>\n",
       "      <td>2008-04-18</td>\n",
       "      <td>2008</td>\n",
       "    </tr>\n",
       "    <tr>\n",
       "      <th>2</th>\n",
       "      <td>335982</td>\n",
       "      <td>1</td>\n",
       "      <td>0.3</td>\n",
       "      <td>0</td>\n",
       "      <td>3</td>\n",
       "      <td>Kolkata Knight Riders</td>\n",
       "      <td>Royal Challengers Bengaluru</td>\n",
       "      <td>BB McCullum</td>\n",
       "      <td>SC Ganguly</td>\n",
       "      <td>P Kumar</td>\n",
       "      <td>0</td>\n",
       "      <td>1</td>\n",
       "      <td>1</td>\n",
       "      <td>0</td>\n",
       "      <td>0</td>\n",
       "      <td>0</td>\n",
       "      <td>NaN</td>\n",
       "      <td>NaN</td>\n",
       "      <td>2008-04-18</td>\n",
       "      <td>2008</td>\n",
       "    </tr>\n",
       "    <tr>\n",
       "      <th>3</th>\n",
       "      <td>335982</td>\n",
       "      <td>1</td>\n",
       "      <td>0.4</td>\n",
       "      <td>0</td>\n",
       "      <td>4</td>\n",
       "      <td>Kolkata Knight Riders</td>\n",
       "      <td>Royal Challengers Bengaluru</td>\n",
       "      <td>BB McCullum</td>\n",
       "      <td>SC Ganguly</td>\n",
       "      <td>P Kumar</td>\n",
       "      <td>0</td>\n",
       "      <td>0</td>\n",
       "      <td>0</td>\n",
       "      <td>0</td>\n",
       "      <td>0</td>\n",
       "      <td>0</td>\n",
       "      <td>NaN</td>\n",
       "      <td>NaN</td>\n",
       "      <td>2008-04-18</td>\n",
       "      <td>2008</td>\n",
       "    </tr>\n",
       "    <tr>\n",
       "      <th>4</th>\n",
       "      <td>335982</td>\n",
       "      <td>1</td>\n",
       "      <td>0.5</td>\n",
       "      <td>0</td>\n",
       "      <td>5</td>\n",
       "      <td>Kolkata Knight Riders</td>\n",
       "      <td>Royal Challengers Bengaluru</td>\n",
       "      <td>BB McCullum</td>\n",
       "      <td>SC Ganguly</td>\n",
       "      <td>P Kumar</td>\n",
       "      <td>0</td>\n",
       "      <td>0</td>\n",
       "      <td>0</td>\n",
       "      <td>0</td>\n",
       "      <td>0</td>\n",
       "      <td>0</td>\n",
       "      <td>NaN</td>\n",
       "      <td>NaN</td>\n",
       "      <td>2008-04-18</td>\n",
       "      <td>2008</td>\n",
       "    </tr>\n",
       "  </tbody>\n",
       "</table>\n",
       "</div>"
      ],
      "text/plain": [
       "   matchId  inning  over_ball  over  ball           batting_team  \\\n",
       "0   335982       1        0.1     0     1  Kolkata Knight Riders   \n",
       "1   335982       1        0.2     0     2  Kolkata Knight Riders   \n",
       "2   335982       1        0.3     0     3  Kolkata Knight Riders   \n",
       "3   335982       1        0.4     0     4  Kolkata Knight Riders   \n",
       "4   335982       1        0.5     0     5  Kolkata Knight Riders   \n",
       "\n",
       "                  bowling_team      batsman  non_striker   bowler  \\\n",
       "0  Royal Challengers Bengaluru   SC Ganguly  BB McCullum  P Kumar   \n",
       "1  Royal Challengers Bengaluru  BB McCullum   SC Ganguly  P Kumar   \n",
       "2  Royal Challengers Bengaluru  BB McCullum   SC Ganguly  P Kumar   \n",
       "3  Royal Challengers Bengaluru  BB McCullum   SC Ganguly  P Kumar   \n",
       "4  Royal Challengers Bengaluru  BB McCullum   SC Ganguly  P Kumar   \n",
       "\n",
       "   batsman_runs  extras  isWide  isNoBall  Byes  LegByes dismissal_kind  \\\n",
       "0             0       1       0         0     0        1            NaN   \n",
       "1             0       0       0         0     0        0            NaN   \n",
       "2             0       1       1         0     0        0            NaN   \n",
       "3             0       0       0         0     0        0            NaN   \n",
       "4             0       0       0         0     0        0            NaN   \n",
       "\n",
       "  player_dismissed       date  season  \n",
       "0              NaN 2008-04-18    2008  \n",
       "1              NaN 2008-04-18    2008  \n",
       "2              NaN 2008-04-18    2008  \n",
       "3              NaN 2008-04-18    2008  \n",
       "4              NaN 2008-04-18    2008  "
      ]
     },
     "execution_count": 20,
     "metadata": {},
     "output_type": "execute_result"
    }
   ],
   "source": [
    "df.head()"
   ]
  },
  {
   "cell_type": "markdown",
   "id": "7674efdf-ce26-4900-99d2-786c885a013a",
   "metadata": {},
   "source": [
    "## Analysis"
   ]
  },
  {
   "cell_type": "code",
   "execution_count": 21,
   "id": "cf3196df-7fbc-46a6-b213-c69164b1325c",
   "metadata": {},
   "outputs": [
    {
     "data": {
      "text/html": [
       "<div>\n",
       "<style scoped>\n",
       "    .dataframe tbody tr th:only-of-type {\n",
       "        vertical-align: middle;\n",
       "    }\n",
       "\n",
       "    .dataframe tbody tr th {\n",
       "        vertical-align: top;\n",
       "    }\n",
       "\n",
       "    .dataframe thead th {\n",
       "        text-align: right;\n",
       "    }\n",
       "</style>\n",
       "<table border=\"1\" class=\"dataframe\">\n",
       "  <thead>\n",
       "    <tr style=\"text-align: right;\">\n",
       "      <th></th>\n",
       "      <th>season</th>\n",
       "      <th>batsman</th>\n",
       "      <th>batsman_runs</th>\n",
       "    </tr>\n",
       "  </thead>\n",
       "  <tbody>\n",
       "    <tr>\n",
       "      <th>0</th>\n",
       "      <td>2008</td>\n",
       "      <td>A Chopra</td>\n",
       "      <td>42</td>\n",
       "    </tr>\n",
       "    <tr>\n",
       "      <th>1</th>\n",
       "      <td>2008</td>\n",
       "      <td>A Kumble</td>\n",
       "      <td>13</td>\n",
       "    </tr>\n",
       "    <tr>\n",
       "      <th>2</th>\n",
       "      <td>2008</td>\n",
       "      <td>A Mishra</td>\n",
       "      <td>37</td>\n",
       "    </tr>\n",
       "    <tr>\n",
       "      <th>3</th>\n",
       "      <td>2008</td>\n",
       "      <td>A Mukund</td>\n",
       "      <td>0</td>\n",
       "    </tr>\n",
       "    <tr>\n",
       "      <th>4</th>\n",
       "      <td>2008</td>\n",
       "      <td>A Nehra</td>\n",
       "      <td>3</td>\n",
       "    </tr>\n",
       "    <tr>\n",
       "      <th>...</th>\n",
       "      <td>...</td>\n",
       "      <td>...</td>\n",
       "      <td>...</td>\n",
       "    </tr>\n",
       "    <tr>\n",
       "      <th>2612</th>\n",
       "      <td>2024</td>\n",
       "      <td>WG Jacks</td>\n",
       "      <td>230</td>\n",
       "    </tr>\n",
       "    <tr>\n",
       "      <th>2613</th>\n",
       "      <td>2024</td>\n",
       "      <td>WP Saha</td>\n",
       "      <td>136</td>\n",
       "    </tr>\n",
       "    <tr>\n",
       "      <th>2614</th>\n",
       "      <td>2024</td>\n",
       "      <td>Washington Sundar</td>\n",
       "      <td>0</td>\n",
       "    </tr>\n",
       "    <tr>\n",
       "      <th>2615</th>\n",
       "      <td>2024</td>\n",
       "      <td>YBK Jaiswal</td>\n",
       "      <td>435</td>\n",
       "    </tr>\n",
       "    <tr>\n",
       "      <th>2616</th>\n",
       "      <td>2024</td>\n",
       "      <td>Yudhvir Singh</td>\n",
       "      <td>21</td>\n",
       "    </tr>\n",
       "  </tbody>\n",
       "</table>\n",
       "<p>2617 rows × 3 columns</p>\n",
       "</div>"
      ],
      "text/plain": [
       "      season            batsman  batsman_runs\n",
       "0       2008           A Chopra            42\n",
       "1       2008           A Kumble            13\n",
       "2       2008           A Mishra            37\n",
       "3       2008           A Mukund             0\n",
       "4       2008            A Nehra             3\n",
       "...      ...                ...           ...\n",
       "2612    2024           WG Jacks           230\n",
       "2613    2024            WP Saha           136\n",
       "2614    2024  Washington Sundar             0\n",
       "2615    2024        YBK Jaiswal           435\n",
       "2616    2024      Yudhvir Singh            21\n",
       "\n",
       "[2617 rows x 3 columns]"
      ]
     },
     "execution_count": 21,
     "metadata": {},
     "output_type": "execute_result"
    }
   ],
   "source": [
    "season_runs = df.groupby(['season', 'batsman'])['batsman_runs'].sum().reset_index()\n",
    "season_runs"
   ]
  },
  {
   "cell_type": "code",
   "execution_count": 22,
   "id": "b01aa00a-a33d-48f8-842d-de0c2f5cec9c",
   "metadata": {
    "scrolled": true
   },
   "outputs": [
    {
     "data": {
      "text/html": [
       "<div>\n",
       "<style scoped>\n",
       "    .dataframe tbody tr th:only-of-type {\n",
       "        vertical-align: middle;\n",
       "    }\n",
       "\n",
       "    .dataframe tbody tr th {\n",
       "        vertical-align: top;\n",
       "    }\n",
       "\n",
       "    .dataframe thead th {\n",
       "        text-align: right;\n",
       "    }\n",
       "</style>\n",
       "<table border=\"1\" class=\"dataframe\">\n",
       "  <thead>\n",
       "    <tr style=\"text-align: right;\">\n",
       "      <th></th>\n",
       "      <th>season</th>\n",
       "      <th>batsman</th>\n",
       "      <th>batsman_runs</th>\n",
       "    </tr>\n",
       "  </thead>\n",
       "  <tbody>\n",
       "    <tr>\n",
       "      <th>0</th>\n",
       "      <td>2008</td>\n",
       "      <td>SE Marsh</td>\n",
       "      <td>616</td>\n",
       "    </tr>\n",
       "    <tr>\n",
       "      <th>1</th>\n",
       "      <td>2009</td>\n",
       "      <td>ML Hayden</td>\n",
       "      <td>572</td>\n",
       "    </tr>\n",
       "    <tr>\n",
       "      <th>2</th>\n",
       "      <td>2010</td>\n",
       "      <td>SR Tendulkar</td>\n",
       "      <td>618</td>\n",
       "    </tr>\n",
       "    <tr>\n",
       "      <th>3</th>\n",
       "      <td>2011</td>\n",
       "      <td>CH Gayle</td>\n",
       "      <td>608</td>\n",
       "    </tr>\n",
       "    <tr>\n",
       "      <th>4</th>\n",
       "      <td>2012</td>\n",
       "      <td>CH Gayle</td>\n",
       "      <td>733</td>\n",
       "    </tr>\n",
       "    <tr>\n",
       "      <th>5</th>\n",
       "      <td>2013</td>\n",
       "      <td>MEK Hussey</td>\n",
       "      <td>733</td>\n",
       "    </tr>\n",
       "    <tr>\n",
       "      <th>6</th>\n",
       "      <td>2014</td>\n",
       "      <td>RV Uthappa</td>\n",
       "      <td>660</td>\n",
       "    </tr>\n",
       "    <tr>\n",
       "      <th>7</th>\n",
       "      <td>2015</td>\n",
       "      <td>DA Warner</td>\n",
       "      <td>562</td>\n",
       "    </tr>\n",
       "    <tr>\n",
       "      <th>8</th>\n",
       "      <td>2016</td>\n",
       "      <td>V Kohli</td>\n",
       "      <td>973</td>\n",
       "    </tr>\n",
       "    <tr>\n",
       "      <th>9</th>\n",
       "      <td>2017</td>\n",
       "      <td>DA Warner</td>\n",
       "      <td>641</td>\n",
       "    </tr>\n",
       "    <tr>\n",
       "      <th>10</th>\n",
       "      <td>2018</td>\n",
       "      <td>KS Williamson</td>\n",
       "      <td>735</td>\n",
       "    </tr>\n",
       "    <tr>\n",
       "      <th>11</th>\n",
       "      <td>2019</td>\n",
       "      <td>DA Warner</td>\n",
       "      <td>692</td>\n",
       "    </tr>\n",
       "    <tr>\n",
       "      <th>12</th>\n",
       "      <td>2020</td>\n",
       "      <td>KL Rahul</td>\n",
       "      <td>676</td>\n",
       "    </tr>\n",
       "    <tr>\n",
       "      <th>13</th>\n",
       "      <td>2021</td>\n",
       "      <td>RD Gaikwad</td>\n",
       "      <td>635</td>\n",
       "    </tr>\n",
       "    <tr>\n",
       "      <th>14</th>\n",
       "      <td>2022</td>\n",
       "      <td>JC Buttler</td>\n",
       "      <td>863</td>\n",
       "    </tr>\n",
       "    <tr>\n",
       "      <th>15</th>\n",
       "      <td>2023</td>\n",
       "      <td>Shubman Gill</td>\n",
       "      <td>890</td>\n",
       "    </tr>\n",
       "    <tr>\n",
       "      <th>16</th>\n",
       "      <td>2024</td>\n",
       "      <td>V Kohli</td>\n",
       "      <td>741</td>\n",
       "    </tr>\n",
       "  </tbody>\n",
       "</table>\n",
       "</div>"
      ],
      "text/plain": [
       "    season        batsman  batsman_runs\n",
       "0     2008       SE Marsh           616\n",
       "1     2009      ML Hayden           572\n",
       "2     2010   SR Tendulkar           618\n",
       "3     2011       CH Gayle           608\n",
       "4     2012       CH Gayle           733\n",
       "5     2013     MEK Hussey           733\n",
       "6     2014     RV Uthappa           660\n",
       "7     2015      DA Warner           562\n",
       "8     2016        V Kohli           973\n",
       "9     2017      DA Warner           641\n",
       "10    2018  KS Williamson           735\n",
       "11    2019      DA Warner           692\n",
       "12    2020       KL Rahul           676\n",
       "13    2021     RD Gaikwad           635\n",
       "14    2022     JC Buttler           863\n",
       "15    2023   Shubman Gill           890\n",
       "16    2024        V Kohli           741"
      ]
     },
     "execution_count": 22,
     "metadata": {},
     "output_type": "execute_result"
    }
   ],
   "source": [
    "highest_run_scorers = season_runs.loc[season_runs.groupby('season')['batsman_runs'].idxmax()].reset_index()\n",
    "highest_run_scorers=highest_run_scorers.drop(columns=\"index\")\n",
    "highest_run_scorers"
   ]
  },
  {
   "cell_type": "code",
   "execution_count": 23,
   "id": "4cfe2fbd-1dbf-47e9-a089-ed47764ac7cd",
   "metadata": {},
   "outputs": [],
   "source": [
    "df['wickets']= df['player_dismissed'].notnull().astype(int)\n",
    "wickets_per_season = df.groupby(['season','bowler'])['wickets'].sum().reset_index()\n",
    "highest_wicket_takers = wickets_per_season.loc[wickets_per_season.groupby('season')['wickets'].idxmax()]\n"
   ]
  },
  {
   "cell_type": "code",
   "execution_count": 24,
   "id": "a61baccb-4302-4bc4-8742-5acc2ca1b550",
   "metadata": {
    "scrolled": true
   },
   "outputs": [
    {
     "data": {
      "image/png": "[encoded data removed]",
      "text/plain": [
       "<Figure size 1000x1000 with 2 Axes>"
      ]
     },
     "metadata": {},
     "output_type": "display_data"
    }
   ],
   "source": [
    "plt.style.use(\"ggplot\")\n",
    "\n",
    "fig, (ax0,ax1) = plt.subplots(nrows=2,\n",
    "                              ncols=1,\n",
    "                              figsize=(10,10),\n",
    "                             sharex=True) \n",
    "scatter= ax0.bar(highest_run_scorers['season'], highest_run_scorers['batsman_runs'], \n",
    "               color='skyblue')\n",
    "ax0.set(title=\"Most runs scores per year\",\n",
    "       \n",
    "        ylabel=\"Runs\")\n",
    "scatter= ax1.plot(highest_wicket_takers['season'],highest_wicket_takers['wickets'],color='blue')\n",
    "ax1.set(title=\"Most wickets taken per year\",\n",
    "        xlabel=\"Season\",\n",
    "        ylabel=\"Wickets\")\n",
    "ax1.set_xticks(range(2008,2025,1))\n",
    "\n",
    "fig.suptitle(\"IPL\", fontsize=16, fontweight=\"bold\");\n",
    "plt.grid(axis='x', linestyle=\"--\", alpha=0.7)\n",
    "\n",
    "plt.show();"
   ]
  },
  {
   "cell_type": "code",
   "execution_count": 26,
   "id": "5176a39b-9023-4a18-aa8b-53da65de2e7a",
   "metadata": {},
   "outputs": [
    {
     "data": {
      "text/html": [
       "<div>\n",
       "<style scoped>\n",
       "    .dataframe tbody tr th:only-of-type {\n",
       "        vertical-align: middle;\n",
       "    }\n",
       "\n",
       "    .dataframe tbody tr th {\n",
       "        vertical-align: top;\n",
       "    }\n",
       "\n",
       "    .dataframe thead th {\n",
       "        text-align: right;\n",
       "    }\n",
       "</style>\n",
       "<table border=\"1\" class=\"dataframe\">\n",
       "  <thead>\n",
       "    <tr style=\"text-align: right;\">\n",
       "      <th></th>\n",
       "      <th>index</th>\n",
       "      <th>matchId</th>\n",
       "      <th>inning</th>\n",
       "      <th>over_ball</th>\n",
       "      <th>over</th>\n",
       "      <th>ball</th>\n",
       "      <th>batting_team</th>\n",
       "      <th>bowling_team</th>\n",
       "      <th>batsman</th>\n",
       "      <th>non_striker</th>\n",
       "      <th>...</th>\n",
       "      <th>extras</th>\n",
       "      <th>isWide</th>\n",
       "      <th>isNoBall</th>\n",
       "      <th>Byes</th>\n",
       "      <th>LegByes</th>\n",
       "      <th>dismissal_kind</th>\n",
       "      <th>player_dismissed</th>\n",
       "      <th>date</th>\n",
       "      <th>season</th>\n",
       "      <th>wickets</th>\n",
       "    </tr>\n",
       "  </thead>\n",
       "  <tbody>\n",
       "    <tr>\n",
       "      <th>0</th>\n",
       "      <td>0</td>\n",
       "      <td>335982</td>\n",
       "      <td>1</td>\n",
       "      <td>0.1</td>\n",
       "      <td>0</td>\n",
       "      <td>1</td>\n",
       "      <td>Kolkata Knight Riders</td>\n",
       "      <td>Royal Challengers Bengaluru</td>\n",
       "      <td>SC Ganguly</td>\n",
       "      <td>BB McCullum</td>\n",
       "      <td>...</td>\n",
       "      <td>1</td>\n",
       "      <td>0</td>\n",
       "      <td>0</td>\n",
       "      <td>0</td>\n",
       "      <td>1</td>\n",
       "      <td>NaN</td>\n",
       "      <td>NaN</td>\n",
       "      <td>2008-04-18</td>\n",
       "      <td>2008</td>\n",
       "      <td>0</td>\n",
       "    </tr>\n",
       "    <tr>\n",
       "      <th>1</th>\n",
       "      <td>1</td>\n",
       "      <td>335982</td>\n",
       "      <td>1</td>\n",
       "      <td>0.2</td>\n",
       "      <td>0</td>\n",
       "      <td>2</td>\n",
       "      <td>Kolkata Knight Riders</td>\n",
       "      <td>Royal Challengers Bengaluru</td>\n",
       "      <td>BB McCullum</td>\n",
       "      <td>SC Ganguly</td>\n",
       "      <td>...</td>\n",
       "      <td>0</td>\n",
       "      <td>0</td>\n",
       "      <td>0</td>\n",
       "      <td>0</td>\n",
       "      <td>0</td>\n",
       "      <td>NaN</td>\n",
       "      <td>NaN</td>\n",
       "      <td>2008-04-18</td>\n",
       "      <td>2008</td>\n",
       "      <td>0</td>\n",
       "    </tr>\n",
       "    <tr>\n",
       "      <th>2</th>\n",
       "      <td>2</td>\n",
       "      <td>335982</td>\n",
       "      <td>1</td>\n",
       "      <td>0.3</td>\n",
       "      <td>0</td>\n",
       "      <td>3</td>\n",
       "      <td>Kolkata Knight Riders</td>\n",
       "      <td>Royal Challengers Bengaluru</td>\n",
       "      <td>BB McCullum</td>\n",
       "      <td>SC Ganguly</td>\n",
       "      <td>...</td>\n",
       "      <td>1</td>\n",
       "      <td>1</td>\n",
       "      <td>0</td>\n",
       "      <td>0</td>\n",
       "      <td>0</td>\n",
       "      <td>NaN</td>\n",
       "      <td>NaN</td>\n",
       "      <td>2008-04-18</td>\n",
       "      <td>2008</td>\n",
       "      <td>0</td>\n",
       "    </tr>\n",
       "    <tr>\n",
       "      <th>3</th>\n",
       "      <td>3</td>\n",
       "      <td>335982</td>\n",
       "      <td>1</td>\n",
       "      <td>0.4</td>\n",
       "      <td>0</td>\n",
       "      <td>4</td>\n",
       "      <td>Kolkata Knight Riders</td>\n",
       "      <td>Royal Challengers Bengaluru</td>\n",
       "      <td>BB McCullum</td>\n",
       "      <td>SC Ganguly</td>\n",
       "      <td>...</td>\n",
       "      <td>0</td>\n",
       "      <td>0</td>\n",
       "      <td>0</td>\n",
       "      <td>0</td>\n",
       "      <td>0</td>\n",
       "      <td>NaN</td>\n",
       "      <td>NaN</td>\n",
       "      <td>2008-04-18</td>\n",
       "      <td>2008</td>\n",
       "      <td>0</td>\n",
       "    </tr>\n",
       "    <tr>\n",
       "      <th>4</th>\n",
       "      <td>4</td>\n",
       "      <td>335982</td>\n",
       "      <td>1</td>\n",
       "      <td>0.5</td>\n",
       "      <td>0</td>\n",
       "      <td>5</td>\n",
       "      <td>Kolkata Knight Riders</td>\n",
       "      <td>Royal Challengers Bengaluru</td>\n",
       "      <td>BB McCullum</td>\n",
       "      <td>SC Ganguly</td>\n",
       "      <td>...</td>\n",
       "      <td>0</td>\n",
       "      <td>0</td>\n",
       "      <td>0</td>\n",
       "      <td>0</td>\n",
       "      <td>0</td>\n",
       "      <td>NaN</td>\n",
       "      <td>NaN</td>\n",
       "      <td>2008-04-18</td>\n",
       "      <td>2008</td>\n",
       "      <td>0</td>\n",
       "    </tr>\n",
       "    <tr>\n",
       "      <th>...</th>\n",
       "      <td>...</td>\n",
       "      <td>...</td>\n",
       "      <td>...</td>\n",
       "      <td>...</td>\n",
       "      <td>...</td>\n",
       "      <td>...</td>\n",
       "      <td>...</td>\n",
       "      <td>...</td>\n",
       "      <td>...</td>\n",
       "      <td>...</td>\n",
       "      <td>...</td>\n",
       "      <td>...</td>\n",
       "      <td>...</td>\n",
       "      <td>...</td>\n",
       "      <td>...</td>\n",
       "      <td>...</td>\n",
       "      <td>...</td>\n",
       "      <td>...</td>\n",
       "      <td>...</td>\n",
       "      <td>...</td>\n",
       "      <td>...</td>\n",
       "    </tr>\n",
       "    <tr>\n",
       "      <th>81900</th>\n",
       "      <td>260888</td>\n",
       "      <td>1426312</td>\n",
       "      <td>2</td>\n",
       "      <td>5.2</td>\n",
       "      <td>5</td>\n",
       "      <td>2</td>\n",
       "      <td>Kolkata Knight Riders</td>\n",
       "      <td>Sunrisers Hyderabad</td>\n",
       "      <td>VR Iyer</td>\n",
       "      <td>Rahmanullah Gurbaz</td>\n",
       "      <td>...</td>\n",
       "      <td>0</td>\n",
       "      <td>0</td>\n",
       "      <td>0</td>\n",
       "      <td>0</td>\n",
       "      <td>0</td>\n",
       "      <td>NaN</td>\n",
       "      <td>NaN</td>\n",
       "      <td>2024-05-26</td>\n",
       "      <td>2024</td>\n",
       "      <td>0</td>\n",
       "    </tr>\n",
       "    <tr>\n",
       "      <th>81901</th>\n",
       "      <td>260889</td>\n",
       "      <td>1426312</td>\n",
       "      <td>2</td>\n",
       "      <td>5.3</td>\n",
       "      <td>5</td>\n",
       "      <td>3</td>\n",
       "      <td>Kolkata Knight Riders</td>\n",
       "      <td>Sunrisers Hyderabad</td>\n",
       "      <td>VR Iyer</td>\n",
       "      <td>Rahmanullah Gurbaz</td>\n",
       "      <td>...</td>\n",
       "      <td>0</td>\n",
       "      <td>0</td>\n",
       "      <td>0</td>\n",
       "      <td>0</td>\n",
       "      <td>0</td>\n",
       "      <td>NaN</td>\n",
       "      <td>NaN</td>\n",
       "      <td>2024-05-26</td>\n",
       "      <td>2024</td>\n",
       "      <td>0</td>\n",
       "    </tr>\n",
       "    <tr>\n",
       "      <th>81902</th>\n",
       "      <td>260890</td>\n",
       "      <td>1426312</td>\n",
       "      <td>2</td>\n",
       "      <td>5.4</td>\n",
       "      <td>5</td>\n",
       "      <td>4</td>\n",
       "      <td>Kolkata Knight Riders</td>\n",
       "      <td>Sunrisers Hyderabad</td>\n",
       "      <td>VR Iyer</td>\n",
       "      <td>Rahmanullah Gurbaz</td>\n",
       "      <td>...</td>\n",
       "      <td>0</td>\n",
       "      <td>0</td>\n",
       "      <td>0</td>\n",
       "      <td>0</td>\n",
       "      <td>0</td>\n",
       "      <td>NaN</td>\n",
       "      <td>NaN</td>\n",
       "      <td>2024-05-26</td>\n",
       "      <td>2024</td>\n",
       "      <td>0</td>\n",
       "    </tr>\n",
       "    <tr>\n",
       "      <th>81903</th>\n",
       "      <td>260891</td>\n",
       "      <td>1426312</td>\n",
       "      <td>2</td>\n",
       "      <td>5.5</td>\n",
       "      <td>5</td>\n",
       "      <td>5</td>\n",
       "      <td>Kolkata Knight Riders</td>\n",
       "      <td>Sunrisers Hyderabad</td>\n",
       "      <td>VR Iyer</td>\n",
       "      <td>Rahmanullah Gurbaz</td>\n",
       "      <td>...</td>\n",
       "      <td>0</td>\n",
       "      <td>0</td>\n",
       "      <td>0</td>\n",
       "      <td>0</td>\n",
       "      <td>0</td>\n",
       "      <td>NaN</td>\n",
       "      <td>NaN</td>\n",
       "      <td>2024-05-26</td>\n",
       "      <td>2024</td>\n",
       "      <td>0</td>\n",
       "    </tr>\n",
       "    <tr>\n",
       "      <th>81904</th>\n",
       "      <td>260892</td>\n",
       "      <td>1426312</td>\n",
       "      <td>2</td>\n",
       "      <td>5.6</td>\n",
       "      <td>5</td>\n",
       "      <td>6</td>\n",
       "      <td>Kolkata Knight Riders</td>\n",
       "      <td>Sunrisers Hyderabad</td>\n",
       "      <td>Rahmanullah Gurbaz</td>\n",
       "      <td>VR Iyer</td>\n",
       "      <td>...</td>\n",
       "      <td>0</td>\n",
       "      <td>0</td>\n",
       "      <td>0</td>\n",
       "      <td>0</td>\n",
       "      <td>0</td>\n",
       "      <td>NaN</td>\n",
       "      <td>NaN</td>\n",
       "      <td>2024-05-26</td>\n",
       "      <td>2024</td>\n",
       "      <td>0</td>\n",
       "    </tr>\n",
       "  </tbody>\n",
       "</table>\n",
       "<p>81905 rows × 22 columns</p>\n",
       "</div>"
      ],
      "text/plain": [
       "        index  matchId  inning  over_ball  over  ball           batting_team  \\\n",
       "0           0   335982       1        0.1     0     1  Kolkata Knight Riders   \n",
       "1           1   335982       1        0.2     0     2  Kolkata Knight Riders   \n",
       "2           2   335982       1        0.3     0     3  Kolkata Knight Riders   \n",
       "3           3   335982       1        0.4     0     4  Kolkata Knight Riders   \n",
       "4           4   335982       1        0.5     0     5  Kolkata Knight Riders   \n",
       "...       ...      ...     ...        ...   ...   ...                    ...   \n",
       "81900  260888  1426312       2        5.2     5     2  Kolkata Knight Riders   \n",
       "81901  260889  1426312       2        5.3     5     3  Kolkata Knight Riders   \n",
       "81902  260890  1426312       2        5.4     5     4  Kolkata Knight Riders   \n",
       "81903  260891  1426312       2        5.5     5     5  Kolkata Knight Riders   \n",
       "81904  260892  1426312       2        5.6     5     6  Kolkata Knight Riders   \n",
       "\n",
       "                      bowling_team             batsman         non_striker  \\\n",
       "0      Royal Challengers Bengaluru          SC Ganguly         BB McCullum   \n",
       "1      Royal Challengers Bengaluru         BB McCullum          SC Ganguly   \n",
       "2      Royal Challengers Bengaluru         BB McCullum          SC Ganguly   \n",
       "3      Royal Challengers Bengaluru         BB McCullum          SC Ganguly   \n",
       "4      Royal Challengers Bengaluru         BB McCullum          SC Ganguly   \n",
       "...                            ...                 ...                 ...   \n",
       "81900          Sunrisers Hyderabad             VR Iyer  Rahmanullah Gurbaz   \n",
       "81901          Sunrisers Hyderabad             VR Iyer  Rahmanullah Gurbaz   \n",
       "81902          Sunrisers Hyderabad             VR Iyer  Rahmanullah Gurbaz   \n",
       "81903          Sunrisers Hyderabad             VR Iyer  Rahmanullah Gurbaz   \n",
       "81904          Sunrisers Hyderabad  Rahmanullah Gurbaz             VR Iyer   \n",
       "\n",
       "       ... extras  isWide  isNoBall  Byes  LegByes  dismissal_kind  \\\n",
       "0      ...      1       0         0     0        1             NaN   \n",
       "1      ...      0       0         0     0        0             NaN   \n",
       "2      ...      1       1         0     0        0             NaN   \n",
       "3      ...      0       0         0     0        0             NaN   \n",
       "4      ...      0       0         0     0        0             NaN   \n",
       "...    ...    ...     ...       ...   ...      ...             ...   \n",
       "81900  ...      0       0         0     0        0             NaN   \n",
       "81901  ...      0       0         0     0        0             NaN   \n",
       "81902  ...      0       0         0     0        0             NaN   \n",
       "81903  ...      0       0         0     0        0             NaN   \n",
       "81904  ...      0       0         0     0        0             NaN   \n",
       "\n",
       "       player_dismissed       date season wickets  \n",
       "0                   NaN 2008-04-18   2008       0  \n",
       "1                   NaN 2008-04-18   2008       0  \n",
       "2                   NaN 2008-04-18   2008       0  \n",
       "3                   NaN 2008-04-18   2008       0  \n",
       "4                   NaN 2008-04-18   2008       0  \n",
       "...                 ...        ...    ...     ...  \n",
       "81900               NaN 2024-05-26   2024       0  \n",
       "81901               NaN 2024-05-26   2024       0  \n",
       "81902               NaN 2024-05-26   2024       0  \n",
       "81903               NaN 2024-05-26   2024       0  \n",
       "81904               NaN 2024-05-26   2024       0  \n",
       "\n",
       "[81905 rows x 22 columns]"
      ]
     },
     "execution_count": 26,
     "metadata": {},
     "output_type": "execute_result"
    }
   ],
   "source": [
    "pp_df= df[df['over_ball']<6]\n",
    "pp_df.reset_index()\n"
   ]
  },
  {
   "cell_type": "code",
   "execution_count": 27,
   "id": "dbbb738a-18ee-4935-a85d-a7a73def2c98",
   "metadata": {},
   "outputs": [
    {
     "data": {
      "text/html": [
       "<div>\n",
       "<style scoped>\n",
       "    .dataframe tbody tr th:only-of-type {\n",
       "        vertical-align: middle;\n",
       "    }\n",
       "\n",
       "    .dataframe tbody tr th {\n",
       "        vertical-align: top;\n",
       "    }\n",
       "\n",
       "    .dataframe thead th {\n",
       "        text-align: right;\n",
       "    }\n",
       "</style>\n",
       "<table border=\"1\" class=\"dataframe\">\n",
       "  <thead>\n",
       "    <tr style=\"text-align: right;\">\n",
       "      <th></th>\n",
       "      <th>index</th>\n",
       "      <th>batsman</th>\n",
       "      <th>powerplay_runs</th>\n",
       "    </tr>\n",
       "  </thead>\n",
       "  <tbody>\n",
       "    <tr>\n",
       "      <th>0</th>\n",
       "      <td>272</td>\n",
       "      <td>S Dhawan</td>\n",
       "      <td>3415</td>\n",
       "    </tr>\n",
       "    <tr>\n",
       "      <th>1</th>\n",
       "      <td>76</td>\n",
       "      <td>DA Warner</td>\n",
       "      <td>3318</td>\n",
       "    </tr>\n",
       "    <tr>\n",
       "      <th>2</th>\n",
       "      <td>337</td>\n",
       "      <td>V Kohli</td>\n",
       "      <td>2809</td>\n",
       "    </tr>\n",
       "    <tr>\n",
       "      <th>3</th>\n",
       "      <td>67</td>\n",
       "      <td>CH Gayle</td>\n",
       "      <td>2405</td>\n",
       "    </tr>\n",
       "    <tr>\n",
       "      <th>4</th>\n",
       "      <td>30</td>\n",
       "      <td>AM Rahane</td>\n",
       "      <td>2319</td>\n",
       "    </tr>\n",
       "    <tr>\n",
       "      <th>5</th>\n",
       "      <td>103</td>\n",
       "      <td>G Gambhir</td>\n",
       "      <td>2277</td>\n",
       "    </tr>\n",
       "    <tr>\n",
       "      <th>6</th>\n",
       "      <td>101</td>\n",
       "      <td>F du Plessis</td>\n",
       "      <td>2148</td>\n",
       "    </tr>\n",
       "    <tr>\n",
       "      <th>7</th>\n",
       "      <td>254</td>\n",
       "      <td>RG Sharma</td>\n",
       "      <td>2137</td>\n",
       "    </tr>\n",
       "    <tr>\n",
       "      <th>8</th>\n",
       "      <td>266</td>\n",
       "      <td>RV Uthappa</td>\n",
       "      <td>2037</td>\n",
       "    </tr>\n",
       "    <tr>\n",
       "      <th>9</th>\n",
       "      <td>150</td>\n",
       "      <td>KL Rahul</td>\n",
       "      <td>2010</td>\n",
       "    </tr>\n",
       "  </tbody>\n",
       "</table>\n",
       "</div>"
      ],
      "text/plain": [
       "   index       batsman  powerplay_runs\n",
       "0    272      S Dhawan            3415\n",
       "1     76     DA Warner            3318\n",
       "2    337       V Kohli            2809\n",
       "3     67      CH Gayle            2405\n",
       "4     30     AM Rahane            2319\n",
       "5    103     G Gambhir            2277\n",
       "6    101  F du Plessis            2148\n",
       "7    254     RG Sharma            2137\n",
       "8    266    RV Uthappa            2037\n",
       "9    150      KL Rahul            2010"
      ]
     },
     "execution_count": 27,
     "metadata": {},
     "output_type": "execute_result"
    }
   ],
   "source": [
    "pp_runs = pp_df.groupby(\"batsman\")[\"batsman_runs\"].sum().reset_index()\n",
    "pp_runs.rename(columns={\"batsman_runs\": \"powerplay_runs\"}, inplace=True)\n",
    "top10_pp_batsmen = pp_runs.sort_values(\"powerplay_runs\", ascending=False).head(10).reset_index()\n",
    "top10_pp_batsmen"
   ]
  },
  {
   "cell_type": "code",
   "execution_count": 28,
   "id": "e951ef62-5c73-45bb-90a7-edbadf0250c7",
   "metadata": {
    "scrolled": true
   },
   "outputs": [
    {
     "data": {
      "image/png": "[encoded data removed]",
      "text/plain": [
       "<Figure size 640x480 with 1 Axes>"
      ]
     },
     "metadata": {},
     "output_type": "display_data"
    }
   ],
   "source": [
    "plt.style.use(\"ggplot\")\n",
    "fig, ax = plt.subplots()\n",
    "ax.barh(top10_pp_batsmen['batsman'], top10_pp_batsmen['powerplay_runs'],color=\"skyblue\")\n",
    "ax.set_title(\"Run Machine in powerplay\",fontweight=\"bold\")\n",
    "ax.set_xlabel(\"Runs scored\",fontweight=\"bold\")\n",
    "ax.set_ylabel(\"Batsman\",fontweight=\"bold\")\n",
    "ax.invert_yaxis()   \n",
    "plt.grid(axis='x', linestyle=\"--\", alpha=0.7)\n",
    "plt.show()"
   ]
  },
  {
   "cell_type": "markdown",
   "id": "f6c59d5c-3724-4e6f-830c-d40f5d73246e",
   "metadata": {},
   "source": [
    "## ROHIT VS KOHLI"
   ]
  },
  {
   "cell_type": "code",
   "execution_count": 29,
   "id": "9713d4fa-36b6-4934-a2c3-6e05ef203c7f",
   "metadata": {},
   "outputs": [],
   "source": [
    "df_2011 = df[df['season']>=2011].reset_index()\n",
    "\n",
    "total = df_2011.groupby(['batting_team', 'season']).agg(\n",
    "    total_runs=('batsman_runs', 'sum'),\n",
    "    total_extras=('extras', 'sum')\n",
    ").reset_index()\n",
    "total['total_team_runs'] = total['total_runs'] +total['total_extras']\n",
    "MI=total[total['batting_team']==\"Mumbai Indians\"].reset_index()\n",
    "RCB=total[total['batting_team']==\"Royal Challengers Bengaluru\"].reset_index()"
   ]
  },
  {
   "cell_type": "code",
   "execution_count": 30,
   "id": "a9fea026-4ba4-489b-959a-651ef659aaf7",
   "metadata": {},
   "outputs": [],
   "source": [
    "vk18 = df_2011[df_2011['batsman']=='V Kohli']\n",
    "rs45= df_2011[df_2011['batsman']=='RG Sharma']\n",
    "VK18 = vk18.groupby('season')['batsman_runs'].sum().reset_index()\n",
    "RS45=rs45.groupby('season')['batsman_runs'].sum().reset_index()"
   ]
  },
  {
   "cell_type": "code",
   "execution_count": 31,
   "id": "452a4233-0907-4a94-a443-b02f306f4bc8",
   "metadata": {},
   "outputs": [],
   "source": [
    "RS45['team_runs']= MI['total_team_runs']"
   ]
  },
  {
   "cell_type": "code",
   "execution_count": 32,
   "id": "6f146abf-f359-44e9-b54e-69043f01e4d2",
   "metadata": {},
   "outputs": [],
   "source": [
    "VK18['team_runs'] = RCB['total_team_runs']"
   ]
  },
  {
   "cell_type": "code",
   "execution_count": 33,
   "id": "63f3f238-1371-4f0e-a4c5-ce29321d0129",
   "metadata": {},
   "outputs": [],
   "source": [
    "vk_18 = vk18.groupby('season').size().reset_index(name=\"balls_faced\")\n",
    "VK18['balls_faced'] = vk_18['balls_faced']\n",
    "rs_45 = rs45.groupby('season').size().reset_index(name=\"balls_faced\")\n",
    "RS45['balls_faced'] = rs_45['balls_faced']"
   ]
  },
  {
   "cell_type": "code",
   "execution_count": 34,
   "id": "e2ec077f-c297-4a8a-922e-1871249f691c",
   "metadata": {},
   "outputs": [],
   "source": [
    "fours_vk = vk18.loc[vk18['batsman_runs'] == 4]\n",
    "fours_vk = fours_vk.groupby('season')['batsman_runs'].sum().reset_index()\n",
    "fours_vk['batsman_runs'] = fours_vk['batsman_runs'] / 4\n",
    "VK18['Fours']=fours_vk['batsman_runs']\n"
   ]
  },
  {
   "cell_type": "code",
   "execution_count": 35,
   "id": "dc2c2e2e-59b2-4a25-b8be-64eafa96458a",
   "metadata": {},
   "outputs": [],
   "source": [
    "fours_rs = rs45.loc[rs45['batsman_runs'] == 4]\n",
    "fours_rs = fours_rs.groupby('season')['batsman_runs'].sum().reset_index()\n",
    "fours_rs['batsman_runs'] = fours_rs['batsman_runs'] / 4\n",
    "RS45['Fours']=fours_rs['batsman_runs']\n"
   ]
  },
  {
   "cell_type": "code",
   "execution_count": 36,
   "id": "d6795c28-8c36-42d9-ae0f-48f553fbcb50",
   "metadata": {},
   "outputs": [],
   "source": [
    "six_rs = rs45.loc[rs45['batsman_runs'] == 6]\n",
    "six_rs = six_rs.groupby('season')['batsman_runs'].sum().reset_index()\n",
    "six_rs['batsman_runs'] = six_rs['batsman_runs'] / 6\n",
    "RS45.loc[:, 'Sixes'] = six_rs['batsman_runs'] #fix suggested by claude"
   ]
  },
  {
   "cell_type": "code",
   "execution_count": 37,
   "id": "88c96e70-d4e5-4f93-bd42-93ece67fde20",
   "metadata": {},
   "outputs": [],
   "source": [
    "six_vk = vk18.loc[vk18['batsman_runs'] == 6]\n",
    "six_vk = six_vk.groupby('season')['batsman_runs'].sum().reset_index()\n",
    "six_vk['batsman_runs'] = six_vk['batsman_runs'] / 6\n",
    "VK18.loc[:, 'Sixes'] = six_vk['batsman_runs'] #fix suggested by claude"
   ]
  },
  {
   "cell_type": "code",
   "execution_count": 38,
   "id": "95c7b34a-24c7-4eb4-a3ea-021dd87d4e0b",
   "metadata": {},
   "outputs": [],
   "source": [
    "ones_vk = vk18.loc[vk18['batsman_runs'] == 1]\n",
    "ones_vk = ones_vk.groupby('season')['batsman_runs'].sum().reset_index()\n",
    "ones_vk['batsman_runs'] = ones_vk['batsman_runs'] \n",
    "VK18.loc[:, \"1s\"] = ones_vk['batsman_runs']"
   ]
  },
  {
   "cell_type": "code",
   "execution_count": 39,
   "id": "4111535e-6a41-4ea0-bfbf-3825b5648907",
   "metadata": {},
   "outputs": [],
   "source": [
    "twos_vk = vk18.loc[vk18['batsman_runs'] == 2]\n",
    "twos_vk = twos_vk.groupby('season')['batsman_runs'].sum().reset_index()\n",
    "twos_vk['batsman_runs'] = twos_vk['batsman_runs'] /2\n",
    "VK18.loc[:, \"2s\"] = twos_vk['batsman_runs']"
   ]
  },
  {
   "cell_type": "code",
   "execution_count": 40,
   "id": "7dad8af5-59bb-40f0-b908-e2029ebf1538",
   "metadata": {},
   "outputs": [],
   "source": [
    "three_vk = vk18.loc[vk18['batsman_runs'] == 3]\n",
    "three_vk = three_vk.groupby('season')['batsman_runs'].sum().reset_index()\n",
    "three_vk['batsman_runs'] = three_vk['batsman_runs']/3 \n",
    "VK18.loc[:, \"3s\"] = three_vk['batsman_runs']"
   ]
  },
  {
   "cell_type": "code",
   "execution_count": 41,
   "id": "6b65826d-f024-4130-81e3-721d752dd004",
   "metadata": {},
   "outputs": [],
   "source": [
    "ones_rs = rs45.loc[rs45['batsman_runs'] == 1]\n",
    "ones_rs = ones_rs.groupby('season')['batsman_runs'].sum().reset_index()\n",
    "ones_rs['batsman_runs'] = ones_rs['batsman_runs'] \n",
    "RS45.loc[:, '1s'] = ones_rs['batsman_runs']"
   ]
  },
  {
   "cell_type": "code",
   "execution_count": 42,
   "id": "667f2111-4895-4ccf-b475-79b823792ccc",
   "metadata": {},
   "outputs": [],
   "source": [
    "twos_rs = rs45.loc[rs45['batsman_runs'] == 2]\n",
    "twos_rs = twos_rs.groupby('season')['batsman_runs'].sum().reset_index()\n",
    "twos_rs['batsman_runs'] = twos_rs['batsman_runs'] /2\n",
    "RS45.loc[:, '2s'] = twos_rs['batsman_runs']"
   ]
  },
  {
   "cell_type": "code",
   "execution_count": 43,
   "id": "9927cc79-199e-4c2c-a077-a917a990057e",
   "metadata": {},
   "outputs": [],
   "source": [
    "three_rs = rs45.loc[rs45['batsman_runs'] == 3]\n",
    "three_rs = three_rs.groupby('season')['batsman_runs'].sum().reset_index()\n",
    "three_rs['batsman_runs'] = three_rs['batsman_runs'] / 3\n",
    "RS45.loc[:, '3s'] = three_rs['batsman_runs']"
   ]
  },
  {
   "cell_type": "code",
   "execution_count": 44,
   "id": "df6ae480-fb02-4230-a852-4568c56c48f8",
   "metadata": {},
   "outputs": [],
   "source": [
    "VK18['Strike_Rate'] = (VK18['batsman_runs']/VK18['balls_faced'])*100\n",
    "RS45['Strike_Rate'] = (RS45['batsman_runs']/RS45['balls_faced'])*100\n",
    "VK18['%Runs_of_team']=(VK18['batsman_runs']/VK18['team_runs'])*100\n",
    "RS45['%Runs_of_team']=(RS45['batsman_runs']/RS45['team_runs'])*100\n",
    "vk_avg = VK18[\"%Runs_of_team\"].mean()\n",
    "rs_avg = RS45[\"%Runs_of_team\"].mean()"
   ]
  },
  {
   "cell_type": "code",
   "execution_count": 45,
   "id": "26d128f5-3e64-4fe7-b187-1a4fc285069d",
   "metadata": {},
   "outputs": [
    {
     "data": {
      "image/png": "[encoded data removed]",
      "text/plain": [
       "<Figure size 1500x2000 with 6 Axes>"
      ]
     },
     "metadata": {},
     "output_type": "display_data"
    }
   ],
   "source": [
    "fig, ((ax0,ax1),(ax2,ax3),(ax4,ax5)) = plt.subplots(nrows=3, ncols=2, figsize=(15,20))\n",
    "ax5.axis('off')\n",
    "x_pos = np.arange(len(VK18['season']))\n",
    "width=0.35\n",
    "# Bar plot\n",
    "ax0.bar(x_pos - width/2, VK18['batsman_runs'], width, label='VK18', alpha=0.8)\n",
    "ax0.bar(x_pos + width/2, RS45['batsman_runs'], width, label='RS45', alpha=0.8)\n",
    "ax0.set_xticks(x_pos)\n",
    "ax0.set_xticklabels(VK18['season'], rotation=45)  # optional rotation\n",
    "ax0.set_yticks(range(0,1000,100))\n",
    "ax0.set_xticklabels(VK18['season'], rotation=45)\n",
    "\n",
    "ax0.legend()\n",
    "ax0.set(title=\"Runs scored - VK18 vs RS45\", ylabel=\"Runs\")\n",
    "\n",
    "# Line plot\n",
    "ax1.plot(x_pos, VK18['Strike_Rate'], marker='o', label='VK18', linewidth=2)\n",
    "ax1.plot(x_pos, RS45['Strike_Rate'], marker='s', label='RS45', linewidth=2)\n",
    "ax1.set_xticks(x_pos)\n",
    "ax1.set_xticklabels(VK18['season'], rotation=45)\n",
    "ax1.set(title=\"Strike Rate - VK18 vs RS45\", ylabel=\"Strike Rate\")\n",
    "ax1.legend()\n",
    "ax1.grid(True, alpha=0.3)\n",
    "\n",
    "ax2.bar(x_pos - width/2, VK18['Sixes'], width, label='VK18', alpha=0.8)\n",
    "ax2.bar(x_pos + width/2, RS45['Sixes'], width, label='RS45', alpha=0.8)\n",
    "ax2.set_xticks(x_pos)\n",
    "ax2.set_xticklabels(VK18['season'], rotation=45)  # optional rotation\n",
    "ax2.set_xticklabels(VK18['season'], rotation=45)\n",
    "ax2.set_yticks(range(1,50,5))\n",
    "ax2.set(title=\"Sixes hit - VK18 vs RS45\",\n",
    "        ylabel=\"Sixes\")\n",
    "ax2.legend()\n",
    "\n",
    "\n",
    "size=[VK18['1s'].mean(),VK18['2s'].mean(),VK18['3s'].mean(),(VK18['Fours']*4+VK18['Sixes']*6).mean()]\n",
    "labels = ['1s','2s','3s','Boundaries']\n",
    "colors=['lightcoral','tomato','coral','sandybrown']\n",
    "ax3.pie(size,labels=labels,colors=colors,autopct='%1.1f%%', startangle=90,textprops={'fontsize': 14})\n",
    "ax3.axis('equal')\n",
    "ax3.set_title(\"Mean Run Distribution - VK18\")\n",
    "ax3.legend()\n",
    "\n",
    "\n",
    "size=[RS45['1s'].mean(),RS45['2s'].mean(),RS45['3s'].mean(),(RS45['Fours']*4+RS45['Sixes']*6).mean()]\n",
    "labels = ['1s','2s','3s','Boundaries']\n",
    "colors=['powderblue','lightskyblue','deepskyblue','steelblue']\n",
    "ax4.pie(size,labels=labels,colors=colors,autopct='%1.1f%%', startangle=90,textprops={'fontsize': 14})\n",
    "ax4.axis('equal')\n",
    "ax4.set_title(\"Mean Run Distribution - RS45\")\n",
    "ax4.legend(loc='upper right')\n",
    "\n",
    "fig.suptitle(\"Kohli vs Rohit in IPL (since 2011)\", fontsize=16, fontweight=\"bold\");\n",
    "\n",
    "\n",
    "plt.show()"
   ]
  },
  {
   "cell_type": "code",
   "execution_count": 48,
   "id": "895f4d95-0756-433c-b1c2-917fbad0a41d",
   "metadata": {},
   "outputs": [
    {
     "data": {
      "text/html": [
       "<div>\n",
       "<style scoped>\n",
       "    .dataframe tbody tr th:only-of-type {\n",
       "        vertical-align: middle;\n",
       "    }\n",
       "\n",
       "    .dataframe tbody tr th {\n",
       "        vertical-align: top;\n",
       "    }\n",
       "\n",
       "    .dataframe thead th {\n",
       "        text-align: right;\n",
       "    }\n",
       "</style>\n",
       "<table border=\"1\" class=\"dataframe\">\n",
       "  <thead>\n",
       "    <tr style=\"text-align: right;\">\n",
       "      <th></th>\n",
       "      <th>season</th>\n",
       "      <th>batsman_runs</th>\n",
       "      <th>team_runs</th>\n",
       "      <th>balls_faced</th>\n",
       "      <th>Fours</th>\n",
       "      <th>Sixes</th>\n",
       "      <th>1s</th>\n",
       "      <th>2s</th>\n",
       "      <th>3s</th>\n",
       "      <th>Strike_Rate</th>\n",
       "      <th>%Runs_of_team</th>\n",
       "    </tr>\n",
       "  </thead>\n",
       "  <tbody>\n",
       "    <tr>\n",
       "      <th>0</th>\n",
       "      <td>2011</td>\n",
       "      <td>557</td>\n",
       "      <td>2469</td>\n",
       "      <td>473</td>\n",
       "      <td>55.0</td>\n",
       "      <td>16.0</td>\n",
       "      <td>178</td>\n",
       "      <td>30.0</td>\n",
       "      <td>1.0</td>\n",
       "      <td>117.758985</td>\n",
       "      <td>22.559741</td>\n",
       "    </tr>\n",
       "    <tr>\n",
       "      <th>1</th>\n",
       "      <td>2012</td>\n",
       "      <td>364</td>\n",
       "      <td>2472</td>\n",
       "      <td>333</td>\n",
       "      <td>33.0</td>\n",
       "      <td>10.0</td>\n",
       "      <td>137</td>\n",
       "      <td>16.0</td>\n",
       "      <td>1.0</td>\n",
       "      <td>109.309309</td>\n",
       "      <td>14.724919</td>\n",
       "    </tr>\n",
       "    <tr>\n",
       "      <th>2</th>\n",
       "      <td>2013</td>\n",
       "      <td>639</td>\n",
       "      <td>2601</td>\n",
       "      <td>471</td>\n",
       "      <td>65.0</td>\n",
       "      <td>22.0</td>\n",
       "      <td>171</td>\n",
       "      <td>35.0</td>\n",
       "      <td>2.0</td>\n",
       "      <td>135.668790</td>\n",
       "      <td>24.567474</td>\n",
       "    </tr>\n",
       "    <tr>\n",
       "      <th>3</th>\n",
       "      <td>2014</td>\n",
       "      <td>359</td>\n",
       "      <td>2093</td>\n",
       "      <td>301</td>\n",
       "      <td>23.0</td>\n",
       "      <td>16.0</td>\n",
       "      <td>127</td>\n",
       "      <td>19.0</td>\n",
       "      <td>2.0</td>\n",
       "      <td>119.269103</td>\n",
       "      <td>17.152413</td>\n",
       "    </tr>\n",
       "    <tr>\n",
       "      <th>4</th>\n",
       "      <td>2015</td>\n",
       "      <td>505</td>\n",
       "      <td>2311</td>\n",
       "      <td>395</td>\n",
       "      <td>35.0</td>\n",
       "      <td>23.0</td>\n",
       "      <td>153</td>\n",
       "      <td>34.0</td>\n",
       "      <td>2.0</td>\n",
       "      <td>127.848101</td>\n",
       "      <td>21.852012</td>\n",
       "    </tr>\n",
       "    <tr>\n",
       "      <th>5</th>\n",
       "      <td>2016</td>\n",
       "      <td>973</td>\n",
       "      <td>2981</td>\n",
       "      <td>655</td>\n",
       "      <td>84.0</td>\n",
       "      <td>38.0</td>\n",
       "      <td>291</td>\n",
       "      <td>56.0</td>\n",
       "      <td>2.0</td>\n",
       "      <td>148.549618</td>\n",
       "      <td>32.640054</td>\n",
       "    </tr>\n",
       "    <tr>\n",
       "      <th>6</th>\n",
       "      <td>2017</td>\n",
       "      <td>308</td>\n",
       "      <td>1845</td>\n",
       "      <td>257</td>\n",
       "      <td>23.0</td>\n",
       "      <td>11.0</td>\n",
       "      <td>107</td>\n",
       "      <td>20.0</td>\n",
       "      <td>1.0</td>\n",
       "      <td>119.844358</td>\n",
       "      <td>16.693767</td>\n",
       "    </tr>\n",
       "    <tr>\n",
       "      <th>7</th>\n",
       "      <td>2018</td>\n",
       "      <td>530</td>\n",
       "      <td>2322</td>\n",
       "      <td>385</td>\n",
       "      <td>52.0</td>\n",
       "      <td>18.0</td>\n",
       "      <td>166</td>\n",
       "      <td>24.0</td>\n",
       "      <td>2.0</td>\n",
       "      <td>137.662338</td>\n",
       "      <td>22.825151</td>\n",
       "    </tr>\n",
       "    <tr>\n",
       "      <th>8</th>\n",
       "      <td>2019</td>\n",
       "      <td>464</td>\n",
       "      <td>2208</td>\n",
       "      <td>332</td>\n",
       "      <td>46.0</td>\n",
       "      <td>13.0</td>\n",
       "      <td>150</td>\n",
       "      <td>26.0</td>\n",
       "      <td>2.0</td>\n",
       "      <td>139.759036</td>\n",
       "      <td>21.014493</td>\n",
       "    </tr>\n",
       "    <tr>\n",
       "      <th>9</th>\n",
       "      <td>2020</td>\n",
       "      <td>471</td>\n",
       "      <td>2289</td>\n",
       "      <td>402</td>\n",
       "      <td>24.0</td>\n",
       "      <td>11.0</td>\n",
       "      <td>195</td>\n",
       "      <td>54.0</td>\n",
       "      <td>4.0</td>\n",
       "      <td>117.164179</td>\n",
       "      <td>20.576671</td>\n",
       "    </tr>\n",
       "    <tr>\n",
       "      <th>10</th>\n",
       "      <td>2021</td>\n",
       "      <td>405</td>\n",
       "      <td>2303</td>\n",
       "      <td>347</td>\n",
       "      <td>43.0</td>\n",
       "      <td>9.0</td>\n",
       "      <td>145</td>\n",
       "      <td>14.0</td>\n",
       "      <td>1.0</td>\n",
       "      <td>116.714697</td>\n",
       "      <td>17.585758</td>\n",
       "    </tr>\n",
       "    <tr>\n",
       "      <th>11</th>\n",
       "      <td>2022</td>\n",
       "      <td>341</td>\n",
       "      <td>2632</td>\n",
       "      <td>306</td>\n",
       "      <td>32.0</td>\n",
       "      <td>8.0</td>\n",
       "      <td>117</td>\n",
       "      <td>18.0</td>\n",
       "      <td>1.0</td>\n",
       "      <td>111.437908</td>\n",
       "      <td>12.955927</td>\n",
       "    </tr>\n",
       "    <tr>\n",
       "      <th>12</th>\n",
       "      <td>2023</td>\n",
       "      <td>639</td>\n",
       "      <td>2502</td>\n",
       "      <td>473</td>\n",
       "      <td>65.0</td>\n",
       "      <td>16.0</td>\n",
       "      <td>210</td>\n",
       "      <td>35.0</td>\n",
       "      <td>0.0</td>\n",
       "      <td>135.095137</td>\n",
       "      <td>25.539568</td>\n",
       "    </tr>\n",
       "    <tr>\n",
       "      <th>13</th>\n",
       "      <td>2024</td>\n",
       "      <td>741</td>\n",
       "      <td>2930</td>\n",
       "      <td>497</td>\n",
       "      <td>62.0</td>\n",
       "      <td>38.0</td>\n",
       "      <td>198</td>\n",
       "      <td>32.0</td>\n",
       "      <td>0.0</td>\n",
       "      <td>149.094567</td>\n",
       "      <td>25.290102</td>\n",
       "    </tr>\n",
       "  </tbody>\n",
       "</table>\n",
       "</div>"
      ],
      "text/plain": [
       "    season  batsman_runs  team_runs  balls_faced  Fours  Sixes   1s    2s  \\\n",
       "0     2011           557       2469          473   55.0   16.0  178  30.0   \n",
       "1     2012           364       2472          333   33.0   10.0  137  16.0   \n",
       "2     2013           639       2601          471   65.0   22.0  171  35.0   \n",
       "3     2014           359       2093          301   23.0   16.0  127  19.0   \n",
       "4     2015           505       2311          395   35.0   23.0  153  34.0   \n",
       "5     2016           973       2981          655   84.0   38.0  291  56.0   \n",
       "6     2017           308       1845          257   23.0   11.0  107  20.0   \n",
       "7     2018           530       2322          385   52.0   18.0  166  24.0   \n",
       "8     2019           464       2208          332   46.0   13.0  150  26.0   \n",
       "9     2020           471       2289          402   24.0   11.0  195  54.0   \n",
       "10    2021           405       2303          347   43.0    9.0  145  14.0   \n",
       "11    2022           341       2632          306   32.0    8.0  117  18.0   \n",
       "12    2023           639       2502          473   65.0   16.0  210  35.0   \n",
       "13    2024           741       2930          497   62.0   38.0  198  32.0   \n",
       "\n",
       "     3s  Strike_Rate  %Runs_of_team  \n",
       "0   1.0   117.758985      22.559741  \n",
       "1   1.0   109.309309      14.724919  \n",
       "2   2.0   135.668790      24.567474  \n",
       "3   2.0   119.269103      17.152413  \n",
       "4   2.0   127.848101      21.852012  \n",
       "5   2.0   148.549618      32.640054  \n",
       "6   1.0   119.844358      16.693767  \n",
       "7   2.0   137.662338      22.825151  \n",
       "8   2.0   139.759036      21.014493  \n",
       "9   4.0   117.164179      20.576671  \n",
       "10  1.0   116.714697      17.585758  \n",
       "11  1.0   111.437908      12.955927  \n",
       "12  0.0   135.095137      25.539568  \n",
       "13  0.0   149.094567      25.290102  "
      ]
     },
     "execution_count": 48,
     "metadata": {},
     "output_type": "execute_result"
    }
   ],
   "source": [
    "VK18.fillna(0)"
   ]
  },
  {
   "cell_type": "code",
   "execution_count": 49,
   "id": "11b4ec58-20e5-4a0a-9a9f-3baf1e9ce000",
   "metadata": {},
   "outputs": [
    {
     "data": {
      "text/html": [
       "<div>\n",
       "<style scoped>\n",
       "    .dataframe tbody tr th:only-of-type {\n",
       "        vertical-align: middle;\n",
       "    }\n",
       "\n",
       "    .dataframe tbody tr th {\n",
       "        vertical-align: top;\n",
       "    }\n",
       "\n",
       "    .dataframe thead th {\n",
       "        text-align: right;\n",
       "    }\n",
       "</style>\n",
       "<table border=\"1\" class=\"dataframe\">\n",
       "  <thead>\n",
       "    <tr style=\"text-align: right;\">\n",
       "      <th></th>\n",
       "      <th>season</th>\n",
       "      <th>batsman_runs</th>\n",
       "      <th>team_runs</th>\n",
       "      <th>balls_faced</th>\n",
       "      <th>Fours</th>\n",
       "      <th>Sixes</th>\n",
       "      <th>1s</th>\n",
       "      <th>2s</th>\n",
       "      <th>3s</th>\n",
       "      <th>Strike_Rate</th>\n",
       "      <th>%Runs_of_team</th>\n",
       "    </tr>\n",
       "  </thead>\n",
       "  <tbody>\n",
       "    <tr>\n",
       "      <th>0</th>\n",
       "      <td>2011</td>\n",
       "      <td>372</td>\n",
       "      <td>2288</td>\n",
       "      <td>304</td>\n",
       "      <td>32.0</td>\n",
       "      <td>13.0</td>\n",
       "      <td>133</td>\n",
       "      <td>15.0</td>\n",
       "      <td>1.0</td>\n",
       "      <td>122.368421</td>\n",
       "      <td>16.258741</td>\n",
       "    </tr>\n",
       "    <tr>\n",
       "      <th>1</th>\n",
       "      <td>2012</td>\n",
       "      <td>433</td>\n",
       "      <td>2462</td>\n",
       "      <td>350</td>\n",
       "      <td>39.0</td>\n",
       "      <td>18.0</td>\n",
       "      <td>139</td>\n",
       "      <td>15.0</td>\n",
       "      <td>3.0</td>\n",
       "      <td>123.714286</td>\n",
       "      <td>17.587327</td>\n",
       "    </tr>\n",
       "    <tr>\n",
       "      <th>2</th>\n",
       "      <td>2013</td>\n",
       "      <td>538</td>\n",
       "      <td>2975</td>\n",
       "      <td>415</td>\n",
       "      <td>35.0</td>\n",
       "      <td>28.0</td>\n",
       "      <td>192</td>\n",
       "      <td>19.0</td>\n",
       "      <td>1.0</td>\n",
       "      <td>129.638554</td>\n",
       "      <td>18.084034</td>\n",
       "    </tr>\n",
       "    <tr>\n",
       "      <th>3</th>\n",
       "      <td>2014</td>\n",
       "      <td>390</td>\n",
       "      <td>2353</td>\n",
       "      <td>307</td>\n",
       "      <td>31.0</td>\n",
       "      <td>16.0</td>\n",
       "      <td>128</td>\n",
       "      <td>21.0</td>\n",
       "      <td>1.0</td>\n",
       "      <td>127.035831</td>\n",
       "      <td>16.574586</td>\n",
       "    </tr>\n",
       "    <tr>\n",
       "      <th>4</th>\n",
       "      <td>2015</td>\n",
       "      <td>482</td>\n",
       "      <td>2734</td>\n",
       "      <td>339</td>\n",
       "      <td>41.0</td>\n",
       "      <td>21.0</td>\n",
       "      <td>146</td>\n",
       "      <td>23.0</td>\n",
       "      <td>0.0</td>\n",
       "      <td>142.182891</td>\n",
       "      <td>17.629846</td>\n",
       "    </tr>\n",
       "    <tr>\n",
       "      <th>5</th>\n",
       "      <td>2016</td>\n",
       "      <td>489</td>\n",
       "      <td>2194</td>\n",
       "      <td>372</td>\n",
       "      <td>49.0</td>\n",
       "      <td>17.0</td>\n",
       "      <td>158</td>\n",
       "      <td>14.0</td>\n",
       "      <td>0.0</td>\n",
       "      <td>131.451613</td>\n",
       "      <td>22.288058</td>\n",
       "    </tr>\n",
       "    <tr>\n",
       "      <th>6</th>\n",
       "      <td>2017</td>\n",
       "      <td>333</td>\n",
       "      <td>2800</td>\n",
       "      <td>278</td>\n",
       "      <td>31.0</td>\n",
       "      <td>9.0</td>\n",
       "      <td>118</td>\n",
       "      <td>14.0</td>\n",
       "      <td>0.0</td>\n",
       "      <td>119.784173</td>\n",
       "      <td>11.892857</td>\n",
       "    </tr>\n",
       "    <tr>\n",
       "      <th>7</th>\n",
       "      <td>2018</td>\n",
       "      <td>286</td>\n",
       "      <td>2380</td>\n",
       "      <td>223</td>\n",
       "      <td>25.0</td>\n",
       "      <td>12.0</td>\n",
       "      <td>82</td>\n",
       "      <td>16.0</td>\n",
       "      <td>0.0</td>\n",
       "      <td>128.251121</td>\n",
       "      <td>12.016807</td>\n",
       "    </tr>\n",
       "    <tr>\n",
       "      <th>8</th>\n",
       "      <td>2019</td>\n",
       "      <td>405</td>\n",
       "      <td>2670</td>\n",
       "      <td>319</td>\n",
       "      <td>52.0</td>\n",
       "      <td>10.0</td>\n",
       "      <td>115</td>\n",
       "      <td>11.0</td>\n",
       "      <td>0.0</td>\n",
       "      <td>126.959248</td>\n",
       "      <td>15.168539</td>\n",
       "    </tr>\n",
       "    <tr>\n",
       "      <th>9</th>\n",
       "      <td>2020</td>\n",
       "      <td>334</td>\n",
       "      <td>2758</td>\n",
       "      <td>275</td>\n",
       "      <td>27.0</td>\n",
       "      <td>19.0</td>\n",
       "      <td>89</td>\n",
       "      <td>10.0</td>\n",
       "      <td>0.0</td>\n",
       "      <td>121.454545</td>\n",
       "      <td>12.110225</td>\n",
       "    </tr>\n",
       "    <tr>\n",
       "      <th>10</th>\n",
       "      <td>2021</td>\n",
       "      <td>381</td>\n",
       "      <td>2117</td>\n",
       "      <td>307</td>\n",
       "      <td>33.0</td>\n",
       "      <td>14.0</td>\n",
       "      <td>117</td>\n",
       "      <td>24.0</td>\n",
       "      <td>0.0</td>\n",
       "      <td>124.104235</td>\n",
       "      <td>17.997166</td>\n",
       "    </tr>\n",
       "    <tr>\n",
       "      <th>11</th>\n",
       "      <td>2022</td>\n",
       "      <td>268</td>\n",
       "      <td>2217</td>\n",
       "      <td>234</td>\n",
       "      <td>28.0</td>\n",
       "      <td>13.0</td>\n",
       "      <td>55</td>\n",
       "      <td>10.0</td>\n",
       "      <td>0.0</td>\n",
       "      <td>114.529915</td>\n",
       "      <td>12.088408</td>\n",
       "    </tr>\n",
       "    <tr>\n",
       "      <th>12</th>\n",
       "      <td>2023</td>\n",
       "      <td>332</td>\n",
       "      <td>2945</td>\n",
       "      <td>258</td>\n",
       "      <td>35.0</td>\n",
       "      <td>17.0</td>\n",
       "      <td>80</td>\n",
       "      <td>5.0</td>\n",
       "      <td>0.0</td>\n",
       "      <td>128.682171</td>\n",
       "      <td>11.273345</td>\n",
       "    </tr>\n",
       "    <tr>\n",
       "      <th>13</th>\n",
       "      <td>2024</td>\n",
       "      <td>417</td>\n",
       "      <td>2568</td>\n",
       "      <td>293</td>\n",
       "      <td>45.0</td>\n",
       "      <td>23.0</td>\n",
       "      <td>79</td>\n",
       "      <td>10.0</td>\n",
       "      <td>0.0</td>\n",
       "      <td>142.320819</td>\n",
       "      <td>16.238318</td>\n",
       "    </tr>\n",
       "  </tbody>\n",
       "</table>\n",
       "</div>"
      ],
      "text/plain": [
       "    season  batsman_runs  team_runs  balls_faced  Fours  Sixes   1s    2s  \\\n",
       "0     2011           372       2288          304   32.0   13.0  133  15.0   \n",
       "1     2012           433       2462          350   39.0   18.0  139  15.0   \n",
       "2     2013           538       2975          415   35.0   28.0  192  19.0   \n",
       "3     2014           390       2353          307   31.0   16.0  128  21.0   \n",
       "4     2015           482       2734          339   41.0   21.0  146  23.0   \n",
       "5     2016           489       2194          372   49.0   17.0  158  14.0   \n",
       "6     2017           333       2800          278   31.0    9.0  118  14.0   \n",
       "7     2018           286       2380          223   25.0   12.0   82  16.0   \n",
       "8     2019           405       2670          319   52.0   10.0  115  11.0   \n",
       "9     2020           334       2758          275   27.0   19.0   89  10.0   \n",
       "10    2021           381       2117          307   33.0   14.0  117  24.0   \n",
       "11    2022           268       2217          234   28.0   13.0   55  10.0   \n",
       "12    2023           332       2945          258   35.0   17.0   80   5.0   \n",
       "13    2024           417       2568          293   45.0   23.0   79  10.0   \n",
       "\n",
       "     3s  Strike_Rate  %Runs_of_team  \n",
       "0   1.0   122.368421      16.258741  \n",
       "1   3.0   123.714286      17.587327  \n",
       "2   1.0   129.638554      18.084034  \n",
       "3   1.0   127.035831      16.574586  \n",
       "4   0.0   142.182891      17.629846  \n",
       "5   0.0   131.451613      22.288058  \n",
       "6   0.0   119.784173      11.892857  \n",
       "7   0.0   128.251121      12.016807  \n",
       "8   0.0   126.959248      15.168539  \n",
       "9   0.0   121.454545      12.110225  \n",
       "10  0.0   124.104235      17.997166  \n",
       "11  0.0   114.529915      12.088408  \n",
       "12  0.0   128.682171      11.273345  \n",
       "13  0.0   142.320819      16.238318  "
      ]
     },
     "execution_count": 49,
     "metadata": {},
     "output_type": "execute_result"
    }
   ],
   "source": [
    "RS45.fillna(0)"
   ]
  },
  {
   "cell_type": "code",
   "execution_count": 50,
   "id": "5fe2f2f8-db61-47b6-acce-e4e2c751cf31",
   "metadata": {
    "scrolled": true
   },
   "outputs": [
    {
     "data": {
      "image/png": "[encoded data removed]",
      "text/plain": [
       "<Figure size 1500x2000 with 6 Axes>"
      ]
     },
     "execution_count": 50,
     "metadata": {},
     "output_type": "execute_result"
    }
   ],
   "source": [
    "fig"
   ]
  },
  {
   "cell_type": "code",
   "execution_count": 51,
   "id": "dce8cfb3-1963-4144-b776-d2b964a86eeb",
   "metadata": {},
   "outputs": [],
   "source": [
    "df['total_runs'] = df['batsman_runs'] + df['extras']\n",
    "powerplay = df[df['over'].between(1,6)]\n",
    "death_overs = df[df['over'].between(16,20)]\n",
    "pp_runs = powerplay.groupby(['batting_team', 'over'])['total_runs'].sum().reset_index()\n",
    "death_runs = death_overs.groupby(['batting_team', 'over'])['total_runs'].sum().reset_index()"
   ]
  },
  {
   "cell_type": "code",
   "execution_count": 52,
   "id": "c1e5b49d-60f2-437d-83af-ede7d2f5fd49",
   "metadata": {},
   "outputs": [
    {
     "data": {
      "application/vnd.plotly.v1+json": {
       "config": {
        "plotlyServerURL": "https://plot.ly"
       },
       "data": [
        {
         "alignmentgroup": "True",
         "customdata": [
          [
           "Chennai Super Kings"
          ],
          [
           "Chennai Super Kings"
          ],
          [
           "Chennai Super Kings"
          ],
          [
           "Chennai Super Kings"
          ],
          [
           "Chennai Super Kings"
          ],
          [
           "Chennai Super Kings"
          ]
         ],
         "hovertemplate": "batting_team=%{customdata[0]}<br>over=%{x}<br>total_runs=%{y}<extra></extra>",
         "legendgroup": "Chennai Super Kings",
         "marker": {
          "color": "#636efa",
          "pattern": {
           "shape": ""
          }
         },
         "name": "Chennai Super Kings",
         "offsetgroup": "Chennai Super Kings",
         "orientation": "v",
         "showlegend": true,
         "textposition": "auto",
         "type": "bar",
         "x": {
          "bdata": "AQIDBAUG",
          "dtype": "i1"
         },
         "xaxis": "x",
         "y": {
          "bdata": "SAYuB9oHLQiOCGgG",
          "dtype": "i2"
         },
         "yaxis": "y"
        },
        {
         "alignmentgroup": "True",
         "customdata": [
          [
           "Deccan Chargers"
          ],
          [
           "Deccan Chargers"
          ],
          [
           "Deccan Chargers"
          ],
          [
           "Deccan Chargers"
          ],
          [
           "Deccan Chargers"
          ],
          [
           "Deccan Chargers"
          ]
         ],
         "hovertemplate": "batting_team=%{customdata[0]}<br>over=%{x}<br>total_runs=%{y}<extra></extra>",
         "legendgroup": "Deccan Chargers",
         "marker": {
          "color": "#EF553B",
          "pattern": {
           "shape": ""
          }
         },
         "name": "Deccan Chargers",
         "offsetgroup": "Deccan Chargers",
         "orientation": "v",
         "showlegend": true,
         "textposition": "auto",
         "type": "bar",
         "x": {
          "bdata": "AQIDBAUG",
          "dtype": "i1"
         },
         "xaxis": "x",
         "y": {
          "bdata": "ZgI2AjsCSgJWAtgB",
          "dtype": "i2"
         },
         "yaxis": "y"
        },
        {
         "alignmentgroup": "True",
         "customdata": [
          [
           "Delhi Capitals"
          ],
          [
           "Delhi Capitals"
          ],
          [
           "Delhi Capitals"
          ],
          [
           "Delhi Capitals"
          ],
          [
           "Delhi Capitals"
          ],
          [
           "Delhi Capitals"
          ]
         ],
         "hovertemplate": "batting_team=%{customdata[0]}<br>over=%{x}<br>total_runs=%{y}<extra></extra>",
         "legendgroup": "Delhi Capitals",
         "marker": {
          "color": "#00cc96",
          "pattern": {
           "shape": ""
          }
         },
         "name": "Delhi Capitals",
         "offsetgroup": "Delhi Capitals",
         "orientation": "v",
         "showlegend": true,
         "textposition": "auto",
         "type": "bar",
         "x": {
          "bdata": "AQIDBAUG",
          "dtype": "i1"
         },
         "xaxis": "x",
         "y": {
          "bdata": "3QcyCCkIxAi4BwAH",
          "dtype": "i2"
         },
         "yaxis": "y"
        },
        {
         "alignmentgroup": "True",
         "customdata": [
          [
           "Gujarat Lions"
          ],
          [
           "Gujarat Lions"
          ],
          [
           "Gujarat Lions"
          ],
          [
           "Gujarat Lions"
          ],
          [
           "Gujarat Lions"
          ],
          [
           "Gujarat Lions"
          ]
         ],
         "hovertemplate": "batting_team=%{customdata[0]}<br>over=%{x}<br>total_runs=%{y}<extra></extra>",
         "legendgroup": "Gujarat Lions",
         "marker": {
          "color": "#ab63fa",
          "pattern": {
           "shape": ""
          }
         },
         "name": "Gujarat Lions",
         "offsetgroup": "Gujarat Lions",
         "orientation": "v",
         "showlegend": true,
         "textposition": "auto",
         "type": "bar",
         "x": {
          "bdata": "AQIDBAUG",
          "dtype": "i1"
         },
         "xaxis": "x",
         "y": {
          "bdata": "4gAmAQ0BCwEmAQMB",
          "dtype": "i2"
         },
         "yaxis": "y"
        },
        {
         "alignmentgroup": "True",
         "customdata": [
          [
           "Gujarat Titans"
          ],
          [
           "Gujarat Titans"
          ],
          [
           "Gujarat Titans"
          ],
          [
           "Gujarat Titans"
          ],
          [
           "Gujarat Titans"
          ],
          [
           "Gujarat Titans"
          ]
         ],
         "hovertemplate": "batting_team=%{customdata[0]}<br>over=%{x}<br>total_runs=%{y}<extra></extra>",
         "legendgroup": "Gujarat Titans",
         "marker": {
          "color": "#FFA15A",
          "pattern": {
           "shape": ""
          }
         },
         "name": "Gujarat Titans",
         "offsetgroup": "Gujarat Titans",
         "orientation": "v",
         "showlegend": true,
         "textposition": "auto",
         "type": "bar",
         "x": {
          "bdata": "AQIDBAUG",
          "dtype": "i1"
         },
         "xaxis": "x",
         "y": {
          "bdata": "hQGKAWUBcAGEAUAB",
          "dtype": "i2"
         },
         "yaxis": "y"
        },
        {
         "alignmentgroup": "True",
         "customdata": [
          [
           "Kochi Tuskers Kerala"
          ],
          [
           "Kochi Tuskers Kerala"
          ],
          [
           "Kochi Tuskers Kerala"
          ],
          [
           "Kochi Tuskers Kerala"
          ],
          [
           "Kochi Tuskers Kerala"
          ],
          [
           "Kochi Tuskers Kerala"
          ]
         ],
         "hovertemplate": "batting_team=%{customdata[0]}<br>over=%{x}<br>total_runs=%{y}<extra></extra>",
         "legendgroup": "Kochi Tuskers Kerala",
         "marker": {
          "color": "#19d3f3",
          "pattern": {
           "shape": ""
          }
         },
         "name": "Kochi Tuskers Kerala",
         "offsetgroup": "Kochi Tuskers Kerala",
         "orientation": "v",
         "showlegend": true,
         "textposition": "auto",
         "type": "bar",
         "x": {
          "bdata": "AQIDBAUG",
          "dtype": "i1"
         },
         "xaxis": "x",
         "y": {
          "bdata": "YABzAH4AYQCPAFkA",
          "dtype": "i2"
         },
         "yaxis": "y"
        },
        {
         "alignmentgroup": "True",
         "customdata": [
          [
           "Kolkata Knight Riders"
          ],
          [
           "Kolkata Knight Riders"
          ],
          [
           "Kolkata Knight Riders"
          ],
          [
           "Kolkata Knight Riders"
          ],
          [
           "Kolkata Knight Riders"
          ],
          [
           "Kolkata Knight Riders"
          ]
         ],
         "hovertemplate": "batting_team=%{customdata[0]}<br>over=%{x}<br>total_runs=%{y}<extra></extra>",
         "legendgroup": "Kolkata Knight Riders",
         "marker": {
          "color": "#FF6692",
          "pattern": {
           "shape": ""
          }
         },
         "name": "Kolkata Knight Riders",
         "offsetgroup": "Kolkata Knight Riders",
         "orientation": "v",
         "showlegend": true,
         "textposition": "auto",
         "type": "bar",
         "x": {
          "bdata": "AQIDBAUG",
          "dtype": "i1"
         },
         "xaxis": "x",
         "y": {
          "bdata": "bAfeB0YIQAgdCJsG",
          "dtype": "i2"
         },
         "yaxis": "y"
        },
        {
         "alignmentgroup": "True",
         "customdata": [
          [
           "Lucknow Super Giants"
          ],
          [
           "Lucknow Super Giants"
          ],
          [
           "Lucknow Super Giants"
          ],
          [
           "Lucknow Super Giants"
          ],
          [
           "Lucknow Super Giants"
          ],
          [
           "Lucknow Super Giants"
          ]
         ],
         "hovertemplate": "batting_team=%{customdata[0]}<br>over=%{x}<br>total_runs=%{y}<extra></extra>",
         "legendgroup": "Lucknow Super Giants",
         "marker": {
          "color": "#B6E880",
          "pattern": {
           "shape": ""
          }
         },
         "name": "Lucknow Super Giants",
         "offsetgroup": "Lucknow Super Giants",
         "orientation": "v",
         "showlegend": true,
         "textposition": "auto",
         "type": "bar",
         "x": {
          "bdata": "AQIDBAUG",
          "dtype": "i1"
         },
         "xaxis": "x",
         "y": {
          "bdata": "PQF5AX8BmAF8ARMB",
          "dtype": "i2"
         },
         "yaxis": "y"
        },
        {
         "alignmentgroup": "True",
         "customdata": [
          [
           "Mumbai Indians"
          ],
          [
           "Mumbai Indians"
          ],
          [
           "Mumbai Indians"
          ],
          [
           "Mumbai Indians"
          ],
          [
           "Mumbai Indians"
          ],
          [
           "Mumbai Indians"
          ]
         ],
         "hovertemplate": "batting_team=%{customdata[0]}<br>over=%{x}<br>total_runs=%{y}<extra></extra>",
         "legendgroup": "Mumbai Indians",
         "marker": {
          "color": "#FF97FF",
          "pattern": {
           "shape": ""
          }
         },
         "name": "Mumbai Indians",
         "offsetgroup": "Mumbai Indians",
         "orientation": "v",
         "showlegend": true,
         "textposition": "auto",
         "type": "bar",
         "x": {
          "bdata": "AQIDBAUG",
          "dtype": "i1"
         },
         "xaxis": "x",
         "y": {
          "bdata": "OwdGCJsItQjMCLYG",
          "dtype": "i2"
         },
         "yaxis": "y"
        },
        {
         "alignmentgroup": "True",
         "customdata": [
          [
           "Pune Warriors"
          ],
          [
           "Pune Warriors"
          ],
          [
           "Pune Warriors"
          ],
          [
           "Pune Warriors"
          ],
          [
           "Pune Warriors"
          ],
          [
           "Pune Warriors"
          ]
         ],
         "hovertemplate": "batting_team=%{customdata[0]}<br>over=%{x}<br>total_runs=%{y}<extra></extra>",
         "legendgroup": "Pune Warriors",
         "marker": {
          "color": "#FECB52",
          "pattern": {
           "shape": ""
          }
         },
         "name": "Pune Warriors",
         "offsetgroup": "Pune Warriors",
         "orientation": "v",
         "showlegend": true,
         "textposition": "auto",
         "type": "bar",
         "x": {
          "bdata": "AQIDBAUG",
          "dtype": "i1"
         },
         "xaxis": "x",
         "y": {
          "bdata": "LQFlAUkBPAFIAfYA",
          "dtype": "i2"
         },
         "yaxis": "y"
        },
        {
         "alignmentgroup": "True",
         "customdata": [
          [
           "Punjab Kings"
          ],
          [
           "Punjab Kings"
          ],
          [
           "Punjab Kings"
          ],
          [
           "Punjab Kings"
          ],
          [
           "Punjab Kings"
          ],
          [
           "Punjab Kings"
          ]
         ],
         "hovertemplate": "batting_team=%{customdata[0]}<br>over=%{x}<br>total_runs=%{y}<extra></extra>",
         "legendgroup": "Punjab Kings",
         "marker": {
          "color": "#636efa",
          "pattern": {
           "shape": ""
          }
         },
         "name": "Punjab Kings",
         "offsetgroup": "Punjab Kings",
         "orientation": "v",
         "showlegend": true,
         "textposition": "auto",
         "type": "bar",
         "x": {
          "bdata": "AQIDBAUG",
          "dtype": "i1"
         },
         "xaxis": "x",
         "y": {
          "bdata": "FAf8B0wITQhgCMMG",
          "dtype": "i2"
         },
         "yaxis": "y"
        },
        {
         "alignmentgroup": "True",
         "customdata": [
          [
           "Rajasthan Royals"
          ],
          [
           "Rajasthan Royals"
          ],
          [
           "Rajasthan Royals"
          ],
          [
           "Rajasthan Royals"
          ],
          [
           "Rajasthan Royals"
          ],
          [
           "Rajasthan Royals"
          ]
         ],
         "hovertemplate": "batting_team=%{customdata[0]}<br>over=%{x}<br>total_runs=%{y}<extra></extra>",
         "legendgroup": "Rajasthan Royals",
         "marker": {
          "color": "#EF553B",
          "pattern": {
           "shape": ""
          }
         },
         "name": "Rajasthan Royals",
         "offsetgroup": "Rajasthan Royals",
         "orientation": "v",
         "showlegend": true,
         "textposition": "auto",
         "type": "bar",
         "x": {
          "bdata": "AQIDBAUG",
          "dtype": "i1"
         },
         "xaxis": "x",
         "y": {
          "bdata": "1gX2BqoH8gbpBgwG",
          "dtype": "i2"
         },
         "yaxis": "y"
        },
        {
         "alignmentgroup": "True",
         "customdata": [
          [
           "Rising Pune Supergiant"
          ],
          [
           "Rising Pune Supergiant"
          ],
          [
           "Rising Pune Supergiant"
          ],
          [
           "Rising Pune Supergiant"
          ],
          [
           "Rising Pune Supergiant"
          ],
          [
           "Rising Pune Supergiant"
          ]
         ],
         "hovertemplate": "batting_team=%{customdata[0]}<br>over=%{x}<br>total_runs=%{y}<extra></extra>",
         "legendgroup": "Rising Pune Supergiant",
         "marker": {
          "color": "#00cc96",
          "pattern": {
           "shape": ""
          }
         },
         "name": "Rising Pune Supergiant",
         "offsetgroup": "Rising Pune Supergiant",
         "orientation": "v",
         "showlegend": true,
         "textposition": "auto",
         "type": "bar",
         "x": {
          "bdata": "AQIDBAUG",
          "dtype": "i1"
         },
         "xaxis": "x",
         "y": {
          "bdata": "yAD6APYABgEuAcYA",
          "dtype": "i2"
         },
         "yaxis": "y"
        },
        {
         "alignmentgroup": "True",
         "customdata": [
          [
           "Royal Challengers Bengaluru"
          ],
          [
           "Royal Challengers Bengaluru"
          ],
          [
           "Royal Challengers Bengaluru"
          ],
          [
           "Royal Challengers Bengaluru"
          ],
          [
           "Royal Challengers Bengaluru"
          ],
          [
           "Royal Challengers Bengaluru"
          ]
         ],
         "hovertemplate": "batting_team=%{customdata[0]}<br>over=%{x}<br>total_runs=%{y}<extra></extra>",
         "legendgroup": "Royal Challengers Bengaluru",
         "marker": {
          "color": "#ab63fa",
          "pattern": {
           "shape": ""
          }
         },
         "name": "Royal Challengers Bengaluru",
         "offsetgroup": "Royal Challengers Bengaluru",
         "orientation": "v",
         "showlegend": true,
         "textposition": "auto",
         "type": "bar",
         "x": {
          "bdata": "AQIDBAUG",
          "dtype": "i1"
         },
         "xaxis": "x",
         "y": {
          "bdata": "UgceCFsI9Af8B1sG",
          "dtype": "i2"
         },
         "yaxis": "y"
        },
        {
         "alignmentgroup": "True",
         "customdata": [
          [
           "Sunrisers Hyderabad"
          ],
          [
           "Sunrisers Hyderabad"
          ],
          [
           "Sunrisers Hyderabad"
          ],
          [
           "Sunrisers Hyderabad"
          ],
          [
           "Sunrisers Hyderabad"
          ],
          [
           "Sunrisers Hyderabad"
          ]
         ],
         "hovertemplate": "batting_team=%{customdata[0]}<br>over=%{x}<br>total_runs=%{y}<extra></extra>",
         "legendgroup": "Sunrisers Hyderabad",
         "marker": {
          "color": "#FFA15A",
          "pattern": {
           "shape": ""
          }
         },
         "name": "Sunrisers Hyderabad",
         "offsetgroup": "Sunrisers Hyderabad",
         "orientation": "v",
         "showlegend": true,
         "textposition": "auto",
         "type": "bar",
         "x": {
          "bdata": "AQIDBAUG",
          "dtype": "i1"
         },
         "xaxis": "x",
         "y": {
          "bdata": "vAUiBtEFbAZrBtEE",
          "dtype": "i2"
         },
         "yaxis": "y"
        }
       ],
       "layout": {
        "barmode": "group",
        "legend": {
         "title": {
          "text": "batting_team"
         },
         "tracegroupgap": 0
        },
        "margin": {
         "t": 60
        },
        "template": {
         "data": {
          "bar": [
           {
            "error_x": {
             "color": "#2a3f5f"
            },
            "error_y": {
             "color": "#2a3f5f"
            },
            "marker": {
             "line": {
              "color": "white",
              "width": 0.5
             },
             "pattern": {
              "fillmode": "overlay",
              "size": 10,
              "solidity": 0.2
             }
            },
            "type": "bar"
           }
          ],
          "barpolar": [
           {
            "marker": {
             "line": {
              "color": "white",
              "width": 0.5
             },
             "pattern": {
              "fillmode": "overlay",
              "size": 10,
              "solidity": 0.2
             }
            },
            "type": "barpolar"
           }
          ],
          "carpet": [
           {
            "aaxis": {
             "endlinecolor": "#2a3f5f",
             "gridcolor": "#C8D4E3",
             "linecolor": "#C8D4E3",
             "minorgridcolor": "#C8D4E3",
             "startlinecolor": "#2a3f5f"
            },
            "baxis": {
             "endlinecolor": "#2a3f5f",
             "gridcolor": "#C8D4E3",
             "linecolor": "#C8D4E3",
             "minorgridcolor": "#C8D4E3",
             "startlinecolor": "#2a3f5f"
            },
            "type": "carpet"
           }
          ],
          "choropleth": [
           {
            "colorbar": {
             "outlinewidth": 0,
             "ticks": ""
            },
            "type": "choropleth"
           }
          ],
          "contour": [
           {
            "colorbar": {
             "outlinewidth": 0,
             "ticks": ""
            },
            "colorscale": [
             [
              0,
              "#0d0887"
             ],
             [
              0.1111111111111111,
              "#46039f"
             ],
             [
              0.2222222222222222,
              "#7201a8"
             ],
             [
              0.3333333333333333,
              "#9c179e"
             ],
             [
              0.4444444444444444,
              "#bd3786"
             ],
             [
              0.5555555555555556,
              "#d8576b"
             ],
             [
              0.6666666666666666,
              "#ed7953"
             ],
             [
              0.7777777777777778,
              "#fb9f3a"
             ],
             [
              0.8888888888888888,
              "#fdca26"
             ],
             [
              1,
              "#f0f921"
             ]
            ],
            "type": "contour"
           }
          ],
          "contourcarpet": [
           {
            "colorbar": {
             "outlinewidth": 0,
             "ticks": ""
            },
            "type": "contourcarpet"
           }
          ],
          "heatmap": [
           {
            "colorbar": {
             "outlinewidth": 0,
             "ticks": ""
            },
            "colorscale": [
             [
              0,
              "#0d0887"
             ],
             [
              0.1111111111111111,
              "#46039f"
             ],
             [
              0.2222222222222222,
              "#7201a8"
             ],
             [
              0.3333333333333333,
              "#9c179e"
             ],
             [
              0.4444444444444444,
              "#bd3786"
             ],
             [
              0.5555555555555556,
              "#d8576b"
             ],
             [
              0.6666666666666666,
              "#ed7953"
             ],
             [
              0.7777777777777778,
              "#fb9f3a"
             ],
             [
              0.8888888888888888,
              "#fdca26"
             ],
             [
              1,
              "#f0f921"
             ]
            ],
            "type": "heatmap"
           }
          ],
          "histogram": [
           {
            "marker": {
             "pattern": {
              "fillmode": "overlay",
              "size": 10,
              "solidity": 0.2
             }
            },
            "type": "histogram"
           }
          ],
          "histogram2d": [
           {
            "colorbar": {
             "outlinewidth": 0,
             "ticks": ""
            },
            "colorscale": [
             [
              0,
              "#0d0887"
             ],
             [
              0.1111111111111111,
              "#46039f"
             ],
             [
              0.2222222222222222,
              "#7201a8"
             ],
             [
              0.3333333333333333,
              "#9c179e"
             ],
             [
              0.4444444444444444,
              "#bd3786"
             ],
             [
              0.5555555555555556,
              "#d8576b"
             ],
             [
              0.6666666666666666,
              "#ed7953"
             ],
             [
              0.7777777777777778,
              "#fb9f3a"
             ],
             [
              0.8888888888888888,
              "#fdca26"
             ],
             [
              1,
              "#f0f921"
             ]
            ],
            "type": "histogram2d"
           }
          ],
          "histogram2dcontour": [
           {
            "colorbar": {
             "outlinewidth": 0,
             "ticks": ""
            },
            "colorscale": [
             [
              0,
              "#0d0887"
             ],
             [
              0.1111111111111111,
              "#46039f"
             ],
             [
              0.2222222222222222,
              "#7201a8"
             ],
             [
              0.3333333333333333,
              "#9c179e"
             ],
             [
              0.4444444444444444,
              "#bd3786"
             ],
             [
              0.5555555555555556,
              "#d8576b"
             ],
             [
              0.6666666666666666,
              "#ed7953"
             ],
             [
              0.7777777777777778,
              "#fb9f3a"
             ],
             [
              0.8888888888888888,
              "#fdca26"
             ],
             [
              1,
              "#f0f921"
             ]
            ],
            "type": "histogram2dcontour"
           }
          ],
          "mesh3d": [
           {
            "colorbar": {
             "outlinewidth": 0,
             "ticks": ""
            },
            "type": "mesh3d"
           }
          ],
          "parcoords": [
           {
            "line": {
             "colorbar": {
              "outlinewidth": 0,
              "ticks": ""
             }
            },
            "type": "parcoords"
           }
          ],
          "pie": [
           {
            "automargin": true,
            "type": "pie"
           }
          ],
          "scatter": [
           {
            "fillpattern": {
             "fillmode": "overlay",
             "size": 10,
             "solidity": 0.2
            },
            "type": "scatter"
           }
          ],
          "scatter3d": [
           {
            "line": {
             "colorbar": {
              "outlinewidth": 0,
              "ticks": ""
             }
            },
            "marker": {
             "colorbar": {
              "outlinewidth": 0,
              "ticks": ""
             }
            },
            "type": "scatter3d"
           }
          ],
          "scattercarpet": [
           {
            "marker": {
             "colorbar": {
              "outlinewidth": 0,
              "ticks": ""
             }
            },
            "type": "scattercarpet"
           }
          ],
          "scattergeo": [
           {
            "marker": {
             "colorbar": {
              "outlinewidth": 0,
              "ticks": ""
             }
            },
            "type": "scattergeo"
           }
          ],
          "scattergl": [
           {
            "marker": {
             "colorbar": {
              "outlinewidth": 0,
              "ticks": ""
             }
            },
            "type": "scattergl"
           }
          ],
          "scattermap": [
           {
            "marker": {
             "colorbar": {
              "outlinewidth": 0,
              "ticks": ""
             }
            },
            "type": "scattermap"
           }
          ],
          "scattermapbox": [
           {
            "marker": {
             "colorbar": {
              "outlinewidth": 0,
              "ticks": ""
             }
            },
            "type": "scattermapbox"
           }
          ],
          "scatterpolar": [
           {
            "marker": {
             "colorbar": {
              "outlinewidth": 0,
              "ticks": ""
             }
            },
            "type": "scatterpolar"
           }
          ],
          "scatterpolargl": [
           {
            "marker": {
             "colorbar": {
              "outlinewidth": 0,
              "ticks": ""
             }
            },
            "type": "scatterpolargl"
           }
          ],
          "scatterternary": [
           {
            "marker": {
             "colorbar": {
              "outlinewidth": 0,
              "ticks": ""
             }
            },
            "type": "scatterternary"
           }
          ],
          "surface": [
           {
            "colorbar": {
             "outlinewidth": 0,
             "ticks": ""
            },
            "colorscale": [
             [
              0,
              "#0d0887"
             ],
             [
              0.1111111111111111,
              "#46039f"
             ],
             [
              0.2222222222222222,
              "#7201a8"
             ],
             [
              0.3333333333333333,
              "#9c179e"
             ],
             [
              0.4444444444444444,
              "#bd3786"
             ],
             [
              0.5555555555555556,
              "#d8576b"
             ],
             [
              0.6666666666666666,
              "#ed7953"
             ],
             [
              0.7777777777777778,
              "#fb9f3a"
             ],
             [
              0.8888888888888888,
              "#fdca26"
             ],
             [
              1,
              "#f0f921"
             ]
            ],
            "type": "surface"
           }
          ],
          "table": [
           {
            "cells": {
             "fill": {
              "color": "#EBF0F8"
             },
             "line": {
              "color": "white"
             }
            },
            "header": {
             "fill": {
              "color": "#C8D4E3"
             },
             "line": {
              "color": "white"
             }
            },
            "type": "table"
           }
          ]
         },
         "layout": {
          "annotationdefaults": {
           "arrowcolor": "#2a3f5f",
           "arrowhead": 0,
           "arrowwidth": 1
          },
          "autotypenumbers": "strict",
          "coloraxis": {
           "colorbar": {
            "outlinewidth": 0,
            "ticks": ""
           }
          },
          "colorscale": {
           "diverging": [
            [
             0,
             "#8e0152"
            ],
            [
             0.1,
             "#c51b7d"
            ],
            [
             0.2,
             "#de77ae"
            ],
            [
             0.3,
             "#f1b6da"
            ],
            [
             0.4,
             "#fde0ef"
            ],
            [
             0.5,
             "#f7f7f7"
            ],
            [
             0.6,
             "#e6f5d0"
            ],
            [
             0.7,
             "#b8e186"
            ],
            [
             0.8,
             "#7fbc41"
            ],
            [
             0.9,
             "#4d9221"
            ],
            [
             1,
             "#276419"
            ]
           ],
           "sequential": [
            [
             0,
             "#0d0887"
            ],
            [
             0.1111111111111111,
             "#46039f"
            ],
            [
             0.2222222222222222,
             "#7201a8"
            ],
            [
             0.3333333333333333,
             "#9c179e"
            ],
            [
             0.4444444444444444,
             "#bd3786"
            ],
            [
             0.5555555555555556,
             "#d8576b"
            ],
            [
             0.6666666666666666,
             "#ed7953"
            ],
            [
             0.7777777777777778,
             "#fb9f3a"
            ],
            [
             0.8888888888888888,
             "#fdca26"
            ],
            [
             1,
             "#f0f921"
            ]
           ],
           "sequentialminus": [
            [
             0,
             "#0d0887"
            ],
            [
             0.1111111111111111,
             "#46039f"
            ],
            [
             0.2222222222222222,
             "#7201a8"
            ],
            [
             0.3333333333333333,
             "#9c179e"
            ],
            [
             0.4444444444444444,
             "#bd3786"
            ],
            [
             0.5555555555555556,
             "#d8576b"
            ],
            [
             0.6666666666666666,
             "#ed7953"
            ],
            [
             0.7777777777777778,
             "#fb9f3a"
            ],
            [
             0.8888888888888888,
             "#fdca26"
            ],
            [
             1,
             "#f0f921"
            ]
           ]
          },
          "colorway": [
           "#636efa",
           "#EF553B",
           "#00cc96",
           "#ab63fa",
           "#FFA15A",
           "#19d3f3",
           "#FF6692",
           "#B6E880",
           "#FF97FF",
           "#FECB52"
          ],
          "font": {
           "color": "#2a3f5f"
          },
          "geo": {
           "bgcolor": "white",
           "lakecolor": "white",
           "landcolor": "white",
           "showlakes": true,
           "showland": true,
           "subunitcolor": "#C8D4E3"
          },
          "hoverlabel": {
           "align": "left"
          },
          "hovermode": "closest",
          "mapbox": {
           "style": "light"
          },
          "paper_bgcolor": "white",
          "plot_bgcolor": "white",
          "polar": {
           "angularaxis": {
            "gridcolor": "#EBF0F8",
            "linecolor": "#EBF0F8",
            "ticks": ""
           },
           "bgcolor": "white",
           "radialaxis": {
            "gridcolor": "#EBF0F8",
            "linecolor": "#EBF0F8",
            "ticks": ""
           }
          },
          "scene": {
           "xaxis": {
            "backgroundcolor": "white",
            "gridcolor": "#DFE8F3",
            "gridwidth": 2,
            "linecolor": "#EBF0F8",
            "showbackground": true,
            "ticks": "",
            "zerolinecolor": "#EBF0F8"
           },
           "yaxis": {
            "backgroundcolor": "white",
            "gridcolor": "#DFE8F3",
            "gridwidth": 2,
            "linecolor": "#EBF0F8",
            "showbackground": true,
            "ticks": "",
            "zerolinecolor": "#EBF0F8"
           },
           "zaxis": {
            "backgroundcolor": "white",
            "gridcolor": "#DFE8F3",
            "gridwidth": 2,
            "linecolor": "#EBF0F8",
            "showbackground": true,
            "ticks": "",
            "zerolinecolor": "#EBF0F8"
           }
          },
          "shapedefaults": {
           "line": {
            "color": "#2a3f5f"
           }
          },
          "ternary": {
           "aaxis": {
            "gridcolor": "#DFE8F3",
            "linecolor": "#A2B1C6",
            "ticks": ""
           },
           "baxis": {
            "gridcolor": "#DFE8F3",
            "linecolor": "#A2B1C6",
            "ticks": ""
           },
           "bgcolor": "white",
           "caxis": {
            "gridcolor": "#DFE8F3",
            "linecolor": "#A2B1C6",
            "ticks": ""
           }
          },
          "title": {
           "x": 0.05
          },
          "xaxis": {
           "automargin": true,
           "gridcolor": "#EBF0F8",
           "linecolor": "#EBF0F8",
           "ticks": "",
           "title": {
            "standoff": 15
           },
           "zerolinecolor": "#EBF0F8",
           "zerolinewidth": 2
          },
          "yaxis": {
           "automargin": true,
           "gridcolor": "#EBF0F8",
           "linecolor": "#EBF0F8",
           "ticks": "",
           "title": {
            "standoff": 15
           },
           "zerolinecolor": "#EBF0F8",
           "zerolinewidth": 2
          }
         }
        },
        "title": {
         "text": "Powerplay Runs by Team"
        },
        "xaxis": {
         "anchor": "y",
         "domain": [
          0,
          1
         ],
         "title": {
          "text": "Over"
         }
        },
        "yaxis": {
         "anchor": "x",
         "domain": [
          0,
          1
         ],
         "title": {
          "text": "Runs"
         }
        }
       }
      },
      "image/png": "[encoded data removed]"
     },
     "metadata": {},
     "output_type": "display_data"
    }
   ],
   "source": [
    "import plotly.express as px\n",
    "\n",
    "# Example for powerplay\n",
    "fig = px.bar(pp_runs,\n",
    "             x='over',\n",
    "             y='total_runs',\n",
    "             color='batting_team',\n",
    "             barmode='group',\n",
    "             hover_data=['batting_team', 'total_runs'])\n",
    "fig.update_layout(title='Powerplay Runs by Team',\n",
    "                  xaxis_title='Over',\n",
    "                  yaxis_title='Runs',\n",
    "                  template= 'plotly_white')\n",
    "fig.show()"
   ]
  },
  {
   "cell_type": "code",
   "execution_count": 94,
   "id": "d95c4236-6af8-4944-8f3b-ed857b6a067e",
   "metadata": {},
   "outputs": [
    {
     "data": {
      "text/plain": [
       "array([nan, 'caught', 'bowled', 'run out', 'lbw', 'retired hurt',\n",
       "       'stumped', 'caught and bowled', 'hit wicket',\n",
       "       'obstructing the field', 'retired out'], dtype=object)"
      ]
     },
     "execution_count": 94,
     "metadata": {},
     "output_type": "execute_result"
    }
   ],
   "source": [
    "df['dismissal_kind'].unique()"
   ]
  },
  {
   "cell_type": "code",
   "execution_count": 113,
   "id": "0a58f384-e9cb-4029-94ec-823126340247",
   "metadata": {},
   "outputs": [
    {
     "data": {
      "application/vnd.plotly.v1+json": {
       "config": {
        "plotlyServerURL": "https://plot.ly"
       },
       "data": [
        {
         "branchvalues": "total",
         "customdata": [
          [
           207,
           "(?)"
          ],
          [
           144,
           "(?)"
          ],
          [
           155,
           "(?)"
          ],
          [
           164,
           "(?)"
          ],
          [
           184,
           "(?)"
          ],
          [
           154,
           "(?)"
          ],
          [
           180,
           "(?)"
          ],
          [
           193,
           "(?)"
          ],
          [
           171,
           "(?)"
          ],
          [
           223,
           "(?)"
          ],
          [
           27,
           "bowled"
          ],
          [
           39,
           "bowled"
          ],
          [
           18,
           "bowled"
          ],
          [
           16,
           "bowled"
          ],
          [
           40,
           "bowled"
          ],
          [
           15,
           "bowled"
          ],
          [
           26,
           "bowled"
          ],
          [
           21,
           "bowled"
          ],
          [
           30,
           "bowled"
          ],
          [
           29,
           "bowled"
          ],
          [
           96,
           "caught"
          ],
          [
           116,
           "caught"
          ],
          [
           118,
           "caught"
          ],
          [
           112,
           "caught"
          ],
          [
           99,
           "caught"
          ],
          [
           92,
           "caught"
          ],
          [
           157,
           "caught"
          ],
          [
           138,
           "caught"
          ],
          [
           105,
           "caught"
          ],
          [
           124,
           "caught"
          ],
          [
           3,
           "caught and bowled"
          ],
          [
           7,
           "caught and bowled"
          ],
          [
           9,
           "caught and bowled"
          ],
          [
           6,
           "caught and bowled"
          ],
          [
           4,
           "caught and bowled"
          ],
          [
           10,
           "caught and bowled"
          ],
          [
           4,
           "caught and bowled"
          ],
          [
           8,
           "caught and bowled"
          ],
          [
           5,
           "caught and bowled"
          ],
          [
           3,
           "caught and bowled"
          ],
          [
           1,
           "hit wicket"
          ],
          [
           7,
           "lbw"
          ],
          [
           9,
           "lbw"
          ],
          [
           12,
           "lbw"
          ],
          [
           4,
           "lbw"
          ],
          [
           13,
           "lbw"
          ],
          [
           8,
           "lbw"
          ],
          [
           18,
           "lbw"
          ],
          [
           15,
           "lbw"
          ],
          [
           17,
           "lbw"
          ],
          [
           18,
           "lbw"
          ],
          [
           1,
           "retired hurt"
          ],
          [
           1,
           "retired hurt"
          ],
          [
           7,
           "run out"
          ],
          [
           9,
           "run out"
          ],
          [
           10,
           "run out"
          ],
          [
           15,
           "run out"
          ],
          [
           9,
           "run out"
          ],
          [
           15,
           "run out"
          ],
          [
           16,
           "run out"
          ],
          [
           11,
           "run out"
          ],
          [
           15,
           "run out"
          ],
          [
           9,
           "run out"
          ],
          [
           8,
           "stumped"
          ],
          [
           8,
           "stumped"
          ],
          [
           5,
           "stumped"
          ],
          [
           7,
           "stumped"
          ],
          [
           8,
           "stumped"
          ],
          [
           3,
           "stumped"
          ],
          [
           5,
           "stumped"
          ],
          [
           4,
           "stumped"
          ],
          [
           5,
           "stumped"
          ],
          [
           5,
           "stumped"
          ]
         ],
         "domain": {
          "x": [
           0,
           1
          ],
          "y": [
           0,
           1
          ]
         },
         "hovertemplate": "labels=%{label}<br>count=%{customdata[0]}<br>parent=%{parent}<br>id=%{id}<br>dismissal_kind=%{customdata[1]}<extra></extra>",
         "ids": [
          "V Kohli",
          "SV Samson",
          "AT Rayudu",
          "DA Warner",
          "KD Karthik",
          "AM Rahane",
          "RV Uthappa",
          "S Dhawan",
          "SK Raina",
          "RG Sharma",
          "RG Sharma/bowled",
          "V Kohli/bowled",
          "SV Samson/bowled",
          "SK Raina/bowled",
          "S Dhawan/bowled",
          "RV Uthappa/bowled",
          "KD Karthik/bowled",
          "AM Rahane/bowled",
          "DA Warner/bowled",
          "AT Rayudu/bowled",
          "AM Rahane/caught",
          "SK Raina/caught",
          "KD Karthik/caught",
          "S Dhawan/caught",
          "SV Samson/caught",
          "AT Rayudu/caught",
          "RG Sharma/caught",
          "V Kohli/caught",
          "DA Warner/caught",
          "RV Uthappa/caught",
          "S Dhawan/caught and bowled",
          "AT Rayudu/caught and bowled",
          "SK Raina/caught and bowled",
          "RV Uthappa/caught and bowled",
          "V Kohli/caught and bowled",
          "RG Sharma/caught and bowled",
          "DA Warner/caught and bowled",
          "AM Rahane/caught and bowled",
          "SV Samson/caught and bowled",
          "KD Karthik/caught and bowled",
          "DA Warner/hit wicket",
          "SK Raina/lbw",
          "DA Warner/lbw",
          "V Kohli/lbw",
          "AT Rayudu/lbw",
          "S Dhawan/lbw",
          "SV Samson/lbw",
          "RV Uthappa/lbw",
          "RG Sharma/lbw",
          "AM Rahane/lbw",
          "KD Karthik/lbw",
          "S Dhawan/retired hurt",
          "AT Rayudu/retired hurt",
          "AM Rahane/run out",
          "V Kohli/run out",
          "DA Warner/run out",
          "AT Rayudu/run out",
          "SV Samson/run out",
          "SK Raina/run out",
          "S Dhawan/run out",
          "RG Sharma/run out",
          "KD Karthik/run out",
          "RV Uthappa/run out",
          "SK Raina/stumped",
          "S Dhawan/stumped",
          "V Kohli/stumped",
          "AT Rayudu/stumped",
          "RV Uthappa/stumped",
          "RG Sharma/stumped",
          "AM Rahane/stumped",
          "KD Karthik/stumped",
          "DA Warner/stumped",
          "SV Samson/stumped"
         ],
         "labels": [
          "V Kohli",
          "SV Samson",
          "AT Rayudu",
          "DA Warner",
          "KD Karthik",
          "AM Rahane",
          "RV Uthappa",
          "S Dhawan",
          "SK Raina",
          "RG Sharma",
          "bowled",
          "bowled",
          "bowled",
          "bowled",
          "bowled",
          "bowled",
          "bowled",
          "bowled",
          "bowled",
          "bowled",
          "caught",
          "caught",
          "caught",
          "caught",
          "caught",
          "caught",
          "caught",
          "caught",
          "caught",
          "caught",
          "caught and bowled",
          "caught and bowled",
          "caught and bowled",
          "caught and bowled",
          "caught and bowled",
          "caught and bowled",
          "caught and bowled",
          "caught and bowled",
          "caught and bowled",
          "caught and bowled",
          "hit wicket",
          "lbw",
          "lbw",
          "lbw",
          "lbw",
          "lbw",
          "lbw",
          "lbw",
          "lbw",
          "lbw",
          "lbw",
          "retired hurt",
          "retired hurt",
          "run out",
          "run out",
          "run out",
          "run out",
          "run out",
          "run out",
          "run out",
          "run out",
          "run out",
          "run out",
          "stumped",
          "stumped",
          "stumped",
          "stumped",
          "stumped",
          "stumped",
          "stumped",
          "stumped",
          "stumped",
          "stumped"
         ],
         "marker": {
          "colors": [
           "rgb(141,211,199)",
           "rgb(141,211,199)",
           "rgb(141,211,199)",
           "rgb(141,211,199)",
           "rgb(141,211,199)",
           "rgb(141,211,199)",
           "rgb(141,211,199)",
           "rgb(141,211,199)",
           "rgb(141,211,199)",
           "rgb(141,211,199)",
           "rgb(255,255,179)",
           "rgb(255,255,179)",
           "rgb(255,255,179)",
           "rgb(255,255,179)",
           "rgb(255,255,179)",
           "rgb(255,255,179)",
           "rgb(255,255,179)",
           "rgb(255,255,179)",
           "rgb(255,255,179)",
           "rgb(255,255,179)",
           "rgb(190,186,218)",
           "rgb(190,186,218)",
           "rgb(190,186,218)",
           "rgb(190,186,218)",
           "rgb(190,186,218)",
           "rgb(190,186,218)",
           "rgb(190,186,218)",
           "rgb(190,186,218)",
           "rgb(190,186,218)",
           "rgb(190,186,218)",
           "rgb(251,128,114)",
           "rgb(251,128,114)",
           "rgb(251,128,114)",
           "rgb(251,128,114)",
           "rgb(251,128,114)",
           "rgb(251,128,114)",
           "rgb(251,128,114)",
           "rgb(251,128,114)",
           "rgb(251,128,114)",
           "rgb(251,128,114)",
           "rgb(128,177,211)",
           "rgb(253,180,98)",
           "rgb(253,180,98)",
           "rgb(253,180,98)",
           "rgb(253,180,98)",
           "rgb(253,180,98)",
           "rgb(253,180,98)",
           "rgb(253,180,98)",
           "rgb(253,180,98)",
           "rgb(253,180,98)",
           "rgb(253,180,98)",
           "rgb(179,222,105)",
           "rgb(179,222,105)",
           "rgb(252,205,229)",
           "rgb(252,205,229)",
           "rgb(252,205,229)",
           "rgb(252,205,229)",
           "rgb(252,205,229)",
           "rgb(252,205,229)",
           "rgb(252,205,229)",
           "rgb(252,205,229)",
           "rgb(252,205,229)",
           "rgb(252,205,229)",
           "rgb(217,217,217)",
           "rgb(217,217,217)",
           "rgb(217,217,217)",
           "rgb(217,217,217)",
           "rgb(217,217,217)",
           "rgb(217,217,217)",
           "rgb(217,217,217)",
           "rgb(217,217,217)",
           "rgb(217,217,217)",
           "rgb(217,217,217)"
          ]
         },
         "name": "",
         "parents": [
          "",
          "",
          "",
          "",
          "",
          "",
          "",
          "",
          "",
          "",
          "RG Sharma",
          "V Kohli",
          "SV Samson",
          "SK Raina",
          "S Dhawan",
          "RV Uthappa",
          "KD Karthik",
          "AM Rahane",
          "DA Warner",
          "AT Rayudu",
          "AM Rahane",
          "SK Raina",
          "KD Karthik",
          "S Dhawan",
          "SV Samson",
          "AT Rayudu",
          "RG Sharma",
          "V Kohli",
          "DA Warner",
          "RV Uthappa",
          "S Dhawan",
          "AT Rayudu",
          "SK Raina",
          "RV Uthappa",
          "V Kohli",
          "RG Sharma",
          "DA Warner",
          "AM Rahane",
          "SV Samson",
          "KD Karthik",
          "DA Warner",
          "SK Raina",
          "DA Warner",
          "V Kohli",
          "AT Rayudu",
          "S Dhawan",
          "SV Samson",
          "RV Uthappa",
          "RG Sharma",
          "AM Rahane",
          "KD Karthik",
          "S Dhawan",
          "AT Rayudu",
          "AM Rahane",
          "V Kohli",
          "DA Warner",
          "AT Rayudu",
          "SV Samson",
          "SK Raina",
          "S Dhawan",
          "RG Sharma",
          "KD Karthik",
          "RV Uthappa",
          "SK Raina",
          "S Dhawan",
          "V Kohli",
          "AT Rayudu",
          "RV Uthappa",
          "RG Sharma",
          "AM Rahane",
          "KD Karthik",
          "DA Warner",
          "SV Samson"
         ],
         "type": "sunburst",
         "values": {
          "bdata": "AAAAAADgaUAAAAAAAABiQAAAAAAAYGNAAAAAAACAZEAAAAAAAABnQAAAAAAAQGNAAAAAAACAZkAAAAAAACBoQAAAAAAAYGVAAAAAAADga0AAAAAAAAA7QAAAAAAAgENAAAAAAAAAMkAAAAAAAAAwQAAAAAAAAERAAAAAAAAALkAAAAAAAAA6QAAAAAAAADVAAAAAAAAAPkAAAAAAAAA9QAAAAAAAAFhAAAAAAAAAXUAAAAAAAIBdQAAAAAAAAFxAAAAAAADAWEAAAAAAAABXQAAAAAAAoGNAAAAAAABAYUAAAAAAAEBaQAAAAAAAAF9AAAAAAAAACEAAAAAAAAAcQAAAAAAAACJAAAAAAAAAGEAAAAAAAAAQQAAAAAAAACRAAAAAAAAAEEAAAAAAAAAgQAAAAAAAABRAAAAAAAAACEAAAAAAAADwPwAAAAAAABxAAAAAAAAAIkAAAAAAAAAoQAAAAAAAABBAAAAAAAAAKkAAAAAAAAAgQAAAAAAAADJAAAAAAAAALkAAAAAAAAAxQAAAAAAAADJAAAAAAAAA8D8AAAAAAADwPwAAAAAAABxAAAAAAAAAIkAAAAAAAAAkQAAAAAAAAC5AAAAAAAAAIkAAAAAAAAAuQAAAAAAAADBAAAAAAAAAJkAAAAAAAAAuQAAAAAAAACJAAAAAAAAAIEAAAAAAAAAgQAAAAAAAABRAAAAAAAAAHEAAAAAAAAAgQAAAAAAAAAhAAAAAAAAAFEAAAAAAAAAQQAAAAAAAABRAAAAAAAAAFEA=",
          "dtype": "f8"
         }
        }
       ],
       "layout": {
        "legend": {
         "tracegroupgap": 0
        },
        "margin": {
         "t": 60
        },
        "sunburstcolorway": [
         "rgb(141,211,199)",
         "rgb(255,255,179)",
         "rgb(190,186,218)",
         "rgb(251,128,114)",
         "rgb(128,177,211)",
         "rgb(253,180,98)",
         "rgb(179,222,105)",
         "rgb(252,205,229)",
         "rgb(217,217,217)",
         "rgb(188,128,189)",
         "rgb(204,235,197)",
         "rgb(255,237,111)"
        ],
        "template": {
         "data": {
          "bar": [
           {
            "error_x": {
             "color": "#2a3f5f"
            },
            "error_y": {
             "color": "#2a3f5f"
            },
            "marker": {
             "line": {
              "color": "#E5ECF6",
              "width": 0.5
             },
             "pattern": {
              "fillmode": "overlay",
              "size": 10,
              "solidity": 0.2
             }
            },
            "type": "bar"
           }
          ],
          "barpolar": [
           {
            "marker": {
             "line": {
              "color": "#E5ECF6",
              "width": 0.5
             },
             "pattern": {
              "fillmode": "overlay",
              "size": 10,
              "solidity": 0.2
             }
            },
            "type": "barpolar"
           }
          ],
          "carpet": [
           {
            "aaxis": {
             "endlinecolor": "#2a3f5f",
             "gridcolor": "white",
             "linecolor": "white",
             "minorgridcolor": "white",
             "startlinecolor": "#2a3f5f"
            },
            "baxis": {
             "endlinecolor": "#2a3f5f",
             "gridcolor": "white",
             "linecolor": "white",
             "minorgridcolor": "white",
             "startlinecolor": "#2a3f5f"
            },
            "type": "carpet"
           }
          ],
          "choropleth": [
           {
            "colorbar": {
             "outlinewidth": 0,
             "ticks": ""
            },
            "type": "choropleth"
           }
          ],
          "contour": [
           {
            "colorbar": {
             "outlinewidth": 0,
             "ticks": ""
            },
            "colorscale": [
             [
              0,
              "#0d0887"
             ],
             [
              0.1111111111111111,
              "#46039f"
             ],
             [
              0.2222222222222222,
              "#7201a8"
             ],
             [
              0.3333333333333333,
              "#9c179e"
             ],
             [
              0.4444444444444444,
              "#bd3786"
             ],
             [
              0.5555555555555556,
              "#d8576b"
             ],
             [
              0.6666666666666666,
              "#ed7953"
             ],
             [
              0.7777777777777778,
              "#fb9f3a"
             ],
             [
              0.8888888888888888,
              "#fdca26"
             ],
             [
              1,
              "#f0f921"
             ]
            ],
            "type": "contour"
           }
          ],
          "contourcarpet": [
           {
            "colorbar": {
             "outlinewidth": 0,
             "ticks": ""
            },
            "type": "contourcarpet"
           }
          ],
          "heatmap": [
           {
            "colorbar": {
             "outlinewidth": 0,
             "ticks": ""
            },
            "colorscale": [
             [
              0,
              "#0d0887"
             ],
             [
              0.1111111111111111,
              "#46039f"
             ],
             [
              0.2222222222222222,
              "#7201a8"
             ],
             [
              0.3333333333333333,
              "#9c179e"
             ],
             [
              0.4444444444444444,
              "#bd3786"
             ],
             [
              0.5555555555555556,
              "#d8576b"
             ],
             [
              0.6666666666666666,
              "#ed7953"
             ],
             [
              0.7777777777777778,
              "#fb9f3a"
             ],
             [
              0.8888888888888888,
              "#fdca26"
             ],
             [
              1,
              "#f0f921"
             ]
            ],
            "type": "heatmap"
           }
          ],
          "histogram": [
           {
            "marker": {
             "pattern": {
              "fillmode": "overlay",
              "size": 10,
              "solidity": 0.2
             }
            },
            "type": "histogram"
           }
          ],
          "histogram2d": [
           {
            "colorbar": {
             "outlinewidth": 0,
             "ticks": ""
            },
            "colorscale": [
             [
              0,
              "#0d0887"
             ],
             [
              0.1111111111111111,
              "#46039f"
             ],
             [
              0.2222222222222222,
              "#7201a8"
             ],
             [
              0.3333333333333333,
              "#9c179e"
             ],
             [
              0.4444444444444444,
              "#bd3786"
             ],
             [
              0.5555555555555556,
              "#d8576b"
             ],
             [
              0.6666666666666666,
              "#ed7953"
             ],
             [
              0.7777777777777778,
              "#fb9f3a"
             ],
             [
              0.8888888888888888,
              "#fdca26"
             ],
             [
              1,
              "#f0f921"
             ]
            ],
            "type": "histogram2d"
           }
          ],
          "histogram2dcontour": [
           {
            "colorbar": {
             "outlinewidth": 0,
             "ticks": ""
            },
            "colorscale": [
             [
              0,
              "#0d0887"
             ],
             [
              0.1111111111111111,
              "#46039f"
             ],
             [
              0.2222222222222222,
              "#7201a8"
             ],
             [
              0.3333333333333333,
              "#9c179e"
             ],
             [
              0.4444444444444444,
              "#bd3786"
             ],
             [
              0.5555555555555556,
              "#d8576b"
             ],
             [
              0.6666666666666666,
              "#ed7953"
             ],
             [
              0.7777777777777778,
              "#fb9f3a"
             ],
             [
              0.8888888888888888,
              "#fdca26"
             ],
             [
              1,
              "#f0f921"
             ]
            ],
            "type": "histogram2dcontour"
           }
          ],
          "mesh3d": [
           {
            "colorbar": {
             "outlinewidth": 0,
             "ticks": ""
            },
            "type": "mesh3d"
           }
          ],
          "parcoords": [
           {
            "line": {
             "colorbar": {
              "outlinewidth": 0,
              "ticks": ""
             }
            },
            "type": "parcoords"
           }
          ],
          "pie": [
           {
            "automargin": true,
            "type": "pie"
           }
          ],
          "scatter": [
           {
            "fillpattern": {
             "fillmode": "overlay",
             "size": 10,
             "solidity": 0.2
            },
            "type": "scatter"
           }
          ],
          "scatter3d": [
           {
            "line": {
             "colorbar": {
              "outlinewidth": 0,
              "ticks": ""
             }
            },
            "marker": {
             "colorbar": {
              "outlinewidth": 0,
              "ticks": ""
             }
            },
            "type": "scatter3d"
           }
          ],
          "scattercarpet": [
           {
            "marker": {
             "colorbar": {
              "outlinewidth": 0,
              "ticks": ""
             }
            },
            "type": "scattercarpet"
           }
          ],
          "scattergeo": [
           {
            "marker": {
             "colorbar": {
              "outlinewidth": 0,
              "ticks": ""
             }
            },
            "type": "scattergeo"
           }
          ],
          "scattergl": [
           {
            "marker": {
             "colorbar": {
              "outlinewidth": 0,
              "ticks": ""
             }
            },
            "type": "scattergl"
           }
          ],
          "scattermap": [
           {
            "marker": {
             "colorbar": {
              "outlinewidth": 0,
              "ticks": ""
             }
            },
            "type": "scattermap"
           }
          ],
          "scattermapbox": [
           {
            "marker": {
             "colorbar": {
              "outlinewidth": 0,
              "ticks": ""
             }
            },
            "type": "scattermapbox"
           }
          ],
          "scatterpolar": [
           {
            "marker": {
             "colorbar": {
              "outlinewidth": 0,
              "ticks": ""
             }
            },
            "type": "scatterpolar"
           }
          ],
          "scatterpolargl": [
           {
            "marker": {
             "colorbar": {
              "outlinewidth": 0,
              "ticks": ""
             }
            },
            "type": "scatterpolargl"
           }
          ],
          "scatterternary": [
           {
            "marker": {
             "colorbar": {
              "outlinewidth": 0,
              "ticks": ""
             }
            },
            "type": "scatterternary"
           }
          ],
          "surface": [
           {
            "colorbar": {
             "outlinewidth": 0,
             "ticks": ""
            },
            "colorscale": [
             [
              0,
              "#0d0887"
             ],
             [
              0.1111111111111111,
              "#46039f"
             ],
             [
              0.2222222222222222,
              "#7201a8"
             ],
             [
              0.3333333333333333,
              "#9c179e"
             ],
             [
              0.4444444444444444,
              "#bd3786"
             ],
             [
              0.5555555555555556,
              "#d8576b"
             ],
             [
              0.6666666666666666,
              "#ed7953"
             ],
             [
              0.7777777777777778,
              "#fb9f3a"
             ],
             [
              0.8888888888888888,
              "#fdca26"
             ],
             [
              1,
              "#f0f921"
             ]
            ],
            "type": "surface"
           }
          ],
          "table": [
           {
            "cells": {
             "fill": {
              "color": "#EBF0F8"
             },
             "line": {
              "color": "white"
             }
            },
            "header": {
             "fill": {
              "color": "#C8D4E3"
             },
             "line": {
              "color": "white"
             }
            },
            "type": "table"
           }
          ]
         },
         "layout": {
          "annotationdefaults": {
           "arrowcolor": "#2a3f5f",
           "arrowhead": 0,
           "arrowwidth": 1
          },
          "autotypenumbers": "strict",
          "coloraxis": {
           "colorbar": {
            "outlinewidth": 0,
            "ticks": ""
           }
          },
          "colorscale": {
           "diverging": [
            [
             0,
             "#8e0152"
            ],
            [
             0.1,
             "#c51b7d"
            ],
            [
             0.2,
             "#de77ae"
            ],
            [
             0.3,
             "#f1b6da"
            ],
            [
             0.4,
             "#fde0ef"
            ],
            [
             0.5,
             "#f7f7f7"
            ],
            [
             0.6,
             "#e6f5d0"
            ],
            [
             0.7,
             "#b8e186"
            ],
            [
             0.8,
             "#7fbc41"
            ],
            [
             0.9,
             "#4d9221"
            ],
            [
             1,
             "#276419"
            ]
           ],
           "sequential": [
            [
             0,
             "#0d0887"
            ],
            [
             0.1111111111111111,
             "#46039f"
            ],
            [
             0.2222222222222222,
             "#7201a8"
            ],
            [
             0.3333333333333333,
             "#9c179e"
            ],
            [
             0.4444444444444444,
             "#bd3786"
            ],
            [
             0.5555555555555556,
             "#d8576b"
            ],
            [
             0.6666666666666666,
             "#ed7953"
            ],
            [
             0.7777777777777778,
             "#fb9f3a"
            ],
            [
             0.8888888888888888,
             "#fdca26"
            ],
            [
             1,
             "#f0f921"
            ]
           ],
           "sequentialminus": [
            [
             0,
             "#0d0887"
            ],
            [
             0.1111111111111111,
             "#46039f"
            ],
            [
             0.2222222222222222,
             "#7201a8"
            ],
            [
             0.3333333333333333,
             "#9c179e"
            ],
            [
             0.4444444444444444,
             "#bd3786"
            ],
            [
             0.5555555555555556,
             "#d8576b"
            ],
            [
             0.6666666666666666,
             "#ed7953"
            ],
            [
             0.7777777777777778,
             "#fb9f3a"
            ],
            [
             0.8888888888888888,
             "#fdca26"
            ],
            [
             1,
             "#f0f921"
            ]
           ]
          },
          "colorway": [
           "#636efa",
           "#EF553B",
           "#00cc96",
           "#ab63fa",
           "#FFA15A",
           "#19d3f3",
           "#FF6692",
           "#B6E880",
           "#FF97FF",
           "#FECB52"
          ],
          "font": {
           "color": "#2a3f5f"
          },
          "geo": {
           "bgcolor": "white",
           "lakecolor": "white",
           "landcolor": "#E5ECF6",
           "showlakes": true,
           "showland": true,
           "subunitcolor": "white"
          },
          "hoverlabel": {
           "align": "left"
          },
          "hovermode": "closest",
          "mapbox": {
           "style": "light"
          },
          "paper_bgcolor": "white",
          "plot_bgcolor": "#E5ECF6",
          "polar": {
           "angularaxis": {
            "gridcolor": "white",
            "linecolor": "white",
            "ticks": ""
           },
           "bgcolor": "#E5ECF6",
           "radialaxis": {
            "gridcolor": "white",
            "linecolor": "white",
            "ticks": ""
           }
          },
          "scene": {
           "xaxis": {
            "backgroundcolor": "#E5ECF6",
            "gridcolor": "white",
            "gridwidth": 2,
            "linecolor": "white",
            "showbackground": true,
            "ticks": "",
            "zerolinecolor": "white"
           },
           "yaxis": {
            "backgroundcolor": "#E5ECF6",
            "gridcolor": "white",
            "gridwidth": 2,
            "linecolor": "white",
            "showbackground": true,
            "ticks": "",
            "zerolinecolor": "white"
           },
           "zaxis": {
            "backgroundcolor": "#E5ECF6",
            "gridcolor": "white",
            "gridwidth": 2,
            "linecolor": "white",
            "showbackground": true,
            "ticks": "",
            "zerolinecolor": "white"
           }
          },
          "shapedefaults": {
           "line": {
            "color": "#2a3f5f"
           }
          },
          "ternary": {
           "aaxis": {
            "gridcolor": "white",
            "linecolor": "white",
            "ticks": ""
           },
           "baxis": {
            "gridcolor": "white",
            "linecolor": "white",
            "ticks": ""
           },
           "bgcolor": "#E5ECF6",
           "caxis": {
            "gridcolor": "white",
            "linecolor": "white",
            "ticks": ""
           }
          },
          "title": {
           "x": 0.05
          },
          "xaxis": {
           "automargin": true,
           "gridcolor": "white",
           "linecolor": "white",
           "ticks": "",
           "title": {
            "standoff": 15
           },
           "zerolinecolor": "white",
           "zerolinewidth": 2
          },
          "yaxis": {
           "automargin": true,
           "gridcolor": "white",
           "linecolor": "white",
           "ticks": "",
           "title": {
            "standoff": 15
           },
           "zerolinecolor": "white",
           "zerolinewidth": 2
          }
         }
        },
        "title": {
         "text": "Top 10 IPL Players Dismissals Breakdown",
         "x": 0.5,
         "xanchor": "center",
         "yanchor": "top"
        }
       }
      },
      "image/png": "[encoded data removed]"
     },
     "metadata": {},
     "output_type": "display_data"
    }
   ],
   "source": [
    "dismissals = df.dropna(subset=['dismissal_kind'])\n",
    "total_dismissals = dismissals.groupby('player_dismissed').size().reset_index(name='total_count')\n",
    "top_players = total_dismissals.nlargest(10, 'total_count')['player_dismissed']\n",
    "top_dismissals = dismissals[dismissals['player_dismissed'].isin(top_players)]\n",
    "player_dismissals = top_dismissals.groupby(['player_dismissed', 'dismissal_kind']).size().reset_index(name='count')\n",
    "fig = px.sunburst(\n",
    "    player_dismissals,\n",
    "    path=['player_dismissed', 'dismissal_kind'], \n",
    "    values='count',\n",
    "    color='dismissal_kind',\n",
    "    hover_data=['count'],\n",
    "    color_discrete_sequence=px.colors.qualitative.Set3\n",
    ")\n",
    "\n",
    "fig.update_layout(title={'text':'Top 10 IPL Players Dismissals Breakdown','xanchor':'center','yanchor':'top','x':0.5})\n",
    "fig.show()"
   ]
  },
  {
   "cell_type": "code",
   "execution_count": null,
   "id": "f317e4cb-f071-4e2e-9e5c-e96cab59c6f2",
   "metadata": {},
   "outputs": [],
   "source": []
  }
 ],
 "metadata": {
  "kernelspec": {
   "display_name": "Python 3 (ipykernel)",
   "language": "python",
   "name": "python3"
  },
  "language_info": {
   "codemirror_mode": {
    "name": "ipython",
    "version": 3
   },
   "file_extension": ".py",
   "mimetype": "text/x-python",
   "name": "python",
   "nbconvert_exporter": "python",
   "pygments_lexer": "ipython3",
   "version": "3.11.13"
  }
 },
 "nbformat": 4,
 "nbformat_minor": 5
}
